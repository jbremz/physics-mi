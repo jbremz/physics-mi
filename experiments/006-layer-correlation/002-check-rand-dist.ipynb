{
 "cells": [
  {
   "cell_type": "markdown",
   "metadata": {},
   "source": [
    "# Check PCA from random inputs\n",
    "\n",
    "Whilst I was away I realised what I _really_ should be doing is checking whether the PCs extracted in the activation space from a _typical data input distribution_ represent orthogonal components in the atypical data distribution we've created by varying our different tasks. I realised that using the latter dataset for extracting the PCs isn't very realistic because in reality both tasks are going to be varying at the same time independent of each other. "
   ]
  },
  {
   "cell_type": "code",
   "execution_count": 1,
   "metadata": {},
   "outputs": [],
   "source": [
    "import pandas as pd\n",
    "import torch\n",
    "from matplotlib import pyplot as plt\n",
    "import numpy as np\n",
    "\n",
    "from torch import nn\n",
    "from torch.optim import Adam\n",
    "from matplotlib import pyplot as plt\n",
    "from tqdm.notebook import tqdm\n",
    "from collections import OrderedDict"
   ]
  },
  {
   "cell_type": "code",
   "execution_count": 2,
   "metadata": {},
   "outputs": [
    {
     "data": {
      "text/plain": [
       "100"
      ]
     },
     "execution_count": 2,
     "metadata": {},
     "output_type": "execute_result"
    }
   ],
   "source": [
    "df = pd.read_pickle(\"../004-multi-task/results/dfs/009-pca.pkl\")\n",
    "len(df)"
   ]
  },
  {
   "cell_type": "markdown",
   "metadata": {},
   "source": [
    "### Network"
   ]
  },
  {
   "cell_type": "code",
   "execution_count": 3,
   "metadata": {},
   "outputs": [],
   "source": [
    "class LinearLayer(nn.Module):\n",
    "    def __init__(self, in_feats, out_feats, use_act=True, *args, **kwargs) -> None:\n",
    "        super().__init__(*args, **kwargs)\n",
    "        self.linear = nn.Linear(in_feats, out_feats)\n",
    "        if use_act:\n",
    "            self.act = nn.ReLU()\n",
    "        self.use_act = use_act\n",
    "\n",
    "    def forward(self, x):\n",
    "        x = self.linear(x)\n",
    "        if self.use_act:\n",
    "            x = self.act(x)\n",
    "        return x\n",
    "\n",
    "\n",
    "class Net(nn.Module):\n",
    "    def __init__(\n",
    "        self, input_dim=4, hidden_dim=16, output_dim=2, *args, **kwargs\n",
    "    ) -> None:\n",
    "        super().__init__(*args, **kwargs)\n",
    "        self.layers = nn.Sequential(\n",
    "            LinearLayer(input_dim, hidden_dim, use_act=True),\n",
    "            LinearLayer(hidden_dim, hidden_dim, use_act=True),\n",
    "            LinearLayer(hidden_dim, output_dim, use_act=False),\n",
    "        )\n",
    "\n",
    "    def forward(self, x):\n",
    "        return self.layers(x)\n",
    "\n",
    "\n",
    "def print_model_parameters(model):\n",
    "    for name, param in model.named_parameters():\n",
    "        print(name, \"\\n\", param.data, \"\\n\")"
   ]
  },
  {
   "cell_type": "markdown",
   "metadata": {},
   "source": [
    "### Data"
   ]
  },
  {
   "cell_type": "code",
   "execution_count": 4,
   "metadata": {},
   "outputs": [],
   "source": [
    "# Generate Y values\n",
    "def generate_Y(n_samples):\n",
    "    return torch.rand(n_samples)\n",
    "\n",
    "\n",
    "# Generate X values based on Y\n",
    "def generate_X(Y, eps):\n",
    "    X = torch.empty(len(Y), 2)\n",
    "    X[:, 0] = Y / (torch.rand(len(Y)) * (1 - eps) + eps)\n",
    "    X[:, 1] = Y / X[:, 0]\n",
    "\n",
    "    # Randomly swap x1 and x2\n",
    "    mask = torch.rand(len(Y)) < 0.5\n",
    "    swap_vals = X[:, 0][mask]\n",
    "    X[:, 0][mask] = X[:, 1][mask]\n",
    "    X[:, 1][mask] = swap_vals\n",
    "\n",
    "    return X\n",
    "\n",
    "\n",
    "def generate_data(n_samples=10000):\n",
    "    # Epsilon value\n",
    "    eps = 0.5\n",
    "\n",
    "    # Initial generation\n",
    "    Y1 = generate_Y(n_samples)\n",
    "    X1 = generate_X(Y1, eps)\n",
    "\n",
    "    # Ensure they are statistically independent by generating new Y and X values\n",
    "    Y2 = generate_Y(n_samples)\n",
    "    X2 = generate_X(Y2, eps)\n",
    "\n",
    "    # Stack X1 and X2 to get the desired shape\n",
    "    X = torch.cat((X1, X2), dim=1)\n",
    "\n",
    "    # Stack Y1 and Y2 for the desired shape\n",
    "    Y = torch.stack((Y1, Y2), dim=1)\n",
    "\n",
    "    # Validate the relationship\n",
    "    assert torch.allclose(X[:, 0] * X[:, 1], Y[:, 0])\n",
    "    assert torch.allclose(X[:, 2] * X[:, 3], Y[:, 1])\n",
    "\n",
    "    s_inds = np.random.permutation(range(X.shape[0]))  # shuffled indices\n",
    "\n",
    "    X_train = X[s_inds[:8000]]\n",
    "    Y_train = Y[s_inds[:8000]]\n",
    "    X_valid = X[s_inds[8000:]]\n",
    "    Y_valid = Y[s_inds[8000:]]\n",
    "\n",
    "    return X_train, Y_train, X_valid, Y_valid\n",
    "\n",
    "\n",
    "def plot_data_distribution(X, Y):\n",
    "    _, ax = plt.subplots()\n",
    "\n",
    "    ax.hist(X[:, 0], alpha=0.5, density=True, label=\"mass\")\n",
    "    ax.hist(X[:, 1], alpha=0.5, density=True, label=\"acceleration\")\n",
    "    ax.hist(Y, alpha=0.5, density=True, label=\"force\")\n",
    "    ax.legend()"
   ]
  },
  {
   "cell_type": "markdown",
   "metadata": {},
   "source": [
    "### Analysis functions"
   ]
  },
  {
   "cell_type": "code",
   "execution_count": 5,
   "metadata": {},
   "outputs": [],
   "source": [
    "def capture_intermediate_outputs(model, input_tensor):\n",
    "    \"\"\"\n",
    "    Captures the intermediate outputs of a PyTorch model.\n",
    "\n",
    "    Args:\n",
    "        model: A PyTorch model.\n",
    "        input_tensor: A PyTorch tensor of shape (batch_size, *).\n",
    "    Returns:\n",
    "        A dictionary mapping layer names to intermediate outputs.\n",
    "    \"\"\"\n",
    "    intermediate_values = OrderedDict()\n",
    "\n",
    "    def hook_fn(module, input, output, name):\n",
    "        if isinstance(module, nn.Linear):\n",
    "            weight = module.weight\n",
    "            input_value = input[0]\n",
    "            intermediate_output = input_value.matmul(weight.t())\n",
    "            intermediate_values[f\"{name}.weight\"] = intermediate_output\n",
    "            intermediate_values[f\"{name}.bias\"] = output\n",
    "        else:\n",
    "            intermediate_values[name] = output\n",
    "\n",
    "    hooks = []\n",
    "    for name, layer in model.named_modules():\n",
    "        hook = layer.register_forward_hook(\n",
    "            lambda module, input, output, name=name: hook_fn(\n",
    "                module, input, output, name\n",
    "            )\n",
    "        )\n",
    "        hooks.append(hook)\n",
    "\n",
    "    with torch.inference_mode():\n",
    "        _ = model(input_tensor)\n",
    "\n",
    "    for hook in hooks:\n",
    "        hook.remove()\n",
    "\n",
    "    filtered_values = {\n",
    "        k: t for k, t in intermediate_values.items() if len(k.split(\".\")) > 2\n",
    "    }\n",
    "    return filtered_values"
   ]
  },
  {
   "cell_type": "code",
   "execution_count": 6,
   "metadata": {},
   "outputs": [],
   "source": [
    "# Generate Y values\n",
    "def generate_Y(n_samples):\n",
    "    return torch.rand(n_samples)\n",
    "\n",
    "\n",
    "# Generate X values based on Y\n",
    "def generate_X(Y, eps):\n",
    "    X = torch.empty(len(Y), 2)\n",
    "    X[:, 0] = Y / (torch.rand(len(Y)) * (1 - eps) + eps)\n",
    "    X[:, 1] = Y / X[:, 0]\n",
    "\n",
    "    # Randomly swap x1 and x2\n",
    "    mask = torch.rand(len(Y)) < 0.5\n",
    "    swap_vals = X[:, 0][mask]\n",
    "    X[:, 0][mask] = X[:, 1][mask]\n",
    "    X[:, 1][mask] = swap_vals\n",
    "\n",
    "    return X\n",
    "\n",
    "\n",
    "def generate_data(n_samples=10000):\n",
    "    # Epsilon value\n",
    "    eps = 0.5\n",
    "\n",
    "    # Initial generation\n",
    "    Y1 = generate_Y(n_samples)\n",
    "    X1 = generate_X(Y1, eps)\n",
    "\n",
    "    # Ensure they are statistically independent by generating new Y and X values\n",
    "    Y2 = generate_Y(n_samples)\n",
    "    X2 = generate_X(Y2, eps)\n",
    "\n",
    "    # Stack X1 and X2 to get the desired shape\n",
    "    X = torch.cat((X1, X2), dim=1)\n",
    "\n",
    "    # Stack Y1 and Y2 for the desired shape\n",
    "    Y = torch.stack((Y1, Y2), dim=1)\n",
    "\n",
    "    # Validate the relationship\n",
    "    assert torch.allclose(X[:, 0] * X[:, 1], Y[:, 0])\n",
    "    assert torch.allclose(X[:, 2] * X[:, 3], Y[:, 1])\n",
    "\n",
    "    s_inds = np.random.permutation(range(X.shape[0]))  # shuffled indices\n",
    "\n",
    "    X_train = X[s_inds[:8000]]\n",
    "    Y_train = Y[s_inds[:8000]]\n",
    "    X_valid = X[s_inds[8000:]]\n",
    "    Y_valid = Y[s_inds[8000:]]\n",
    "\n",
    "    return X_train, Y_train, X_valid, Y_valid\n",
    "\n",
    "\n",
    "def plot_data_distribution(X, Y):\n",
    "    _, ax = plt.subplots()\n",
    "\n",
    "    ax.hist(X[:, 0], alpha=0.5, density=True, label=\"mass\")\n",
    "    ax.hist(X[:, 1], alpha=0.5, density=True, label=\"acceleration\")\n",
    "    ax.hist(Y, alpha=0.5, density=True, label=\"force\")\n",
    "    ax.legend()\n",
    "\n",
    "\n",
    "def get_inputs(N=100, vary_task=\"A\"):\n",
    "    \"\"\"Get inputs where one task is varied and the other is fixed.\"\"\"\n",
    "    pairs = np.concatenate(\n",
    "        np.stack(np.meshgrid(np.linspace(0, 1, N), np.linspace(0, 1, N))).T\n",
    "    )\n",
    "    pairs = torch.tensor(pairs, dtype=torch.float32)\n",
    "    if vary_task == \"A\":\n",
    "        inputs = torch.cat((pairs, torch.full((len(pairs), 2), 0.5)), dim=1)\n",
    "    if vary_task == \"B\":\n",
    "        inputs = torch.cat((torch.full((len(pairs), 2), 0.5), pairs), dim=1)\n",
    "    return inputs\n",
    "\n",
    "\n",
    "def get_pcs(data):\n",
    "    \"\"\"Produce principal components and variances for a dataset.\"\"\"\n",
    "    mean = torch.mean(data, 0)\n",
    "    data_centered = data - mean\n",
    "\n",
    "    # Step 2: Compute the SVD\n",
    "    U, S, V = torch.svd(data_centered)\n",
    "\n",
    "    # The columns of V are the principal components\n",
    "    principal_components = V\n",
    "\n",
    "    # Step 3: Compute variances\n",
    "    variances = S.pow(2) / (data.size(0) - 1)\n",
    "\n",
    "    return principal_components, variances\n",
    "\n",
    "\n",
    "def get_os(vectors):\n",
    "    \"\"\"Get orthogonality scores for a set of vectors.\"\"\"\n",
    "    angles = np.arctan2(vectors[..., 1], vectors[..., 0])\n",
    "    os = np.abs(\n",
    "        (np.mod(angles, np.pi / 2) - np.pi / 4) / (np.pi / 4)\n",
    "    )  # I'm sure there's a neater way of doing this...\n",
    "    return os\n",
    "\n",
    "\n",
    "def get_sims(pcsA, pcsB):\n",
    "    \"\"\"Get the similarity matrix between two sets of principal components.\"\"\"\n",
    "    return torch.matmul(pcsA.T, pcsB).numpy()\n",
    "\n",
    "\n",
    "def compute_variances(pcs, acts, indices):\n",
    "    return torch.stack(\n",
    "        [torch.var((pcs[:, i] * acts[indices]).sum(-1)) for i in range(16)]\n",
    "    )\n",
    "\n",
    "\n",
    "def plot_similarity(\n",
    "    sims, title=\"Dot-product Similarity of\\nPrincipal Components\", x_label=None\n",
    "):\n",
    "    fig, ax = plt.subplots(figsize=(6, 6))\n",
    "\n",
    "    im = ax.imshow(sims, cmap=\"bwr\", vmin=-1, vmax=1)\n",
    "    cbar = fig.colorbar(im, ax=ax, fraction=0.046, pad=0.04)\n",
    "    cbar.ax.tick_params(labelsize=14)\n",
    "\n",
    "    ax.set_title(title, fontsize=16)\n",
    "    ax.set_xlabel(x_label, fontsize=14)\n",
    "    ax.set_ylabel(\"Combined Tasks\", fontsize=14)\n",
    "\n",
    "\n",
    "def plot_pca_variances(varA, varB, err_varA=None, err_varB=None):\n",
    "    _, ax = plt.subplots(figsize=(6, 6))\n",
    "\n",
    "    # plot the variances for task A\n",
    "    ax.bar(range(len(varA)), varA, yerr=err_varA, label=\"Task A activations\", alpha=0.5)\n",
    "    ax.bar(range(len(varB)), varB, yerr=err_varB, label=\"Task B activations\", alpha=0.5)\n",
    "    ax.set_xlabel(\"Principal Component\")\n",
    "    ax.set_ylabel(\"Variance\")\n",
    "    ax.set_title(\"Variance of Principal Components from Task A\")\n",
    "    ax.legend()"
   ]
  },
  {
   "cell_type": "markdown",
   "metadata": {},
   "source": [
    "### Get PCs"
   ]
  },
  {
   "cell_type": "code",
   "execution_count": 7,
   "metadata": {},
   "outputs": [
    {
     "data": {
      "application/vnd.jupyter.widget-view+json": {
       "model_id": "9655b857759449e39b668c869dcc0b09",
       "version_major": 2,
       "version_minor": 0
      },
      "text/plain": [
       "0it [00:00, ?it/s]"
      ]
     },
     "metadata": {},
     "output_type": "display_data"
    }
   ],
   "source": [
    "(\n",
    "    X_train,\n",
    "    Y_train,\n",
    "    X_valid,\n",
    "    Y_valid,\n",
    ") = generate_data()  # this is a typical input distribution\n",
    "inputs = torch.cat(\n",
    "    (get_inputs(100, vary_task=\"A\"), get_inputs(100, vary_task=\"B\"))\n",
    ")  # this is the task separated input distribution\n",
    "\n",
    "rows = []\n",
    "for i, row in tqdm(df.iterrows()):\n",
    "    model = Net(input_dim=4, hidden_dim=16, output_dim=2)\n",
    "    model.load_state_dict(row.model)\n",
    "    model.eval()\n",
    "\n",
    "    sep_ios = capture_intermediate_outputs(model, inputs)\n",
    "    comb_ios = capture_intermediate_outputs(model, X_valid)\n",
    "    sep_acts, comb_acts = sep_ios[\"layers.0.act\"], comb_ios[\"layers.0.act\"]\n",
    "    pcs, _ = get_pcs(\n",
    "        comb_acts\n",
    "    )  # principal components and variances for both tasks varied at the same time\n",
    "    pcsA, _ = get_pcs(sep_acts[:10000])  # principal components and variances for task A\n",
    "    pcsB, _ = get_pcs(sep_acts[10000:])  # principal components and variances for task B\n",
    "    row[\"pcs\"] = pcs\n",
    "    row[\"pcsA\"] = pcsA\n",
    "    row[\"pcsB\"] = pcsB\n",
    "    row[\"comb_acts\"] = comb_acts\n",
    "    row[\"sep_acts\"] = sep_acts\n",
    "    row.pop(\"acts\")\n",
    "    rows.append(row)\n",
    "df = pd.DataFrame(rows)"
   ]
  },
  {
   "cell_type": "markdown",
   "metadata": {},
   "source": [
    "Here I am now calculating the variances explained in each task dataset by the principal components extracted from the typical input distribution (the validation set):"
   ]
  },
  {
   "cell_type": "code",
   "execution_count": 10,
   "metadata": {},
   "outputs": [],
   "source": [
    "sliceA = slice(0, 10000)\n",
    "sliceB = slice(10000, None)\n",
    "varA = compute_variances(pcs, row[\"sep_acts\"], sliceA).numpy()\n",
    "varB = compute_variances(pcs, row[\"sep_acts\"], sliceB).numpy()"
   ]
  },
  {
   "cell_type": "code",
   "execution_count": 11,
   "metadata": {},
   "outputs": [
    {
     "data": {
      "image/png": "[encoded data removed]",
      "text/plain": [
       "<Figure size 600x600 with 1 Axes>"
      ]
     },
     "metadata": {},
     "output_type": "display_data"
    }
   ],
   "source": [
    "plot_pca_variances(varA, varB)"
   ]
  },
  {
   "cell_type": "code",
   "execution_count": 12,
   "metadata": {},
   "outputs": [],
   "source": [
    "varAs, varBs = [], []\n",
    "for i, row in df.iterrows():\n",
    "    varA = compute_variances(row[\"pcs\"], row[\"sep_acts\"], sliceA).numpy()\n",
    "    varB = compute_variances(row[\"pcs\"], row[\"sep_acts\"], sliceB).numpy()\n",
    "    varAs.append(varA)\n",
    "    varBs.append(varB)\n",
    "\n",
    "varAs = np.stack(varAs)\n",
    "varBs = np.stack(varBs)"
   ]
  },
  {
   "cell_type": "code",
   "execution_count": 14,
   "metadata": {},
   "outputs": [],
   "source": [
    "nvarAs = varAs / np.linalg.norm(varAs, axis=1)[:, None]\n",
    "nvarBs = varBs / np.linalg.norm(varBs, axis=1)[:, None]"
   ]
  },
  {
   "cell_type": "code",
   "execution_count": 15,
   "metadata": {},
   "outputs": [
    {
     "data": {
      "text/plain": [
       "((16,), (16,))"
      ]
     },
     "execution_count": 15,
     "metadata": {},
     "output_type": "execute_result"
    }
   ],
   "source": [
    "Δ = np.abs(varAs - varBs)\n",
    "mean_Δ = Δ.mean(0)\n",
    "err_Δ = Δ.std(0) / np.sqrt(len(Δ))\n",
    "mean_Δ.shape, err_Δ.shape"
   ]
  },
  {
   "cell_type": "code",
   "execution_count": 16,
   "metadata": {},
   "outputs": [
    {
     "data": {
      "text/plain": [
       "Text(0.5, 1.0, 'Variance separation between tasks across PCs')"
      ]
     },
     "execution_count": 16,
     "metadata": {},
     "output_type": "execute_result"
    },
    {
     "data": {
      "image/png": "[encoded data removed]",
      "text/plain": [
       "<Figure size 600x600 with 1 Axes>"
      ]
     },
     "metadata": {},
     "output_type": "display_data"
    }
   ],
   "source": [
    "_, ax = plt.subplots(figsize=(6, 6))\n",
    "\n",
    "# plot the variances for task A\n",
    "ax.bar(range(len(mean_Δ)), mean_Δ, yerr=err_Δ, alpha=0.5)\n",
    "ax.set_xlabel(\"Principal Component\")\n",
    "ax.set_ylabel(\"mean absolute Δ variance\")\n",
    "ax.set_title(\"Variance separation between tasks across PCs\")"
   ]
  },
  {
   "cell_type": "code",
   "execution_count": 17,
   "metadata": {},
   "outputs": [
    {
     "name": "stderr",
     "output_type": "stream",
     "text": [
      "/var/folders/5z/c8p82vrj5f333s_5w192fbw80000gn/T/ipykernel_55275/48271130.py:2: RuntimeWarning: invalid value encountered in divide\n",
      "  variance_capture = vars.max(-1) / vars.sum(-1)\n"
     ]
    },
    {
     "data": {
      "image/png": "[encoded data removed]",
      "text/plain": [
       "<Figure size 600x600 with 1 Axes>"
      ]
     },
     "metadata": {},
     "output_type": "display_data"
    }
   ],
   "source": [
    "vars = np.concatenate((varAs[:, :, None], varBs[:, :, None]), axis=-1)\n",
    "variance_capture = vars.max(-1) / vars.sum(-1)\n",
    "vc_mean = variance_capture.mean(0)\n",
    "vc_err = variance_capture.std(0) / np.sqrt(len(variance_capture))\n",
    "\n",
    "_, ax = plt.subplots(figsize=(6, 6))\n",
    "\n",
    "# plot the variances for task A\n",
    "ax.bar(range(len(vc_mean)), vc_mean, yerr=vc_err, alpha=0.5)\n",
    "ax.set_xlabel(\"Principal Component\")\n",
    "ax.set_ylabel(\"mean proportion of variance captured\")\n",
    "_ = ax.set_title(\"Variance capture of the largest task\\nvariance across PCs\")"
   ]
  },
  {
   "cell_type": "markdown",
   "metadata": {},
   "source": [
    "Ok, this looks about the same as when I computed the variances from the PCs extracted from the individual task dataset which is good. This means: even in a real-world setting where the \"tasks\" are varying concurrently, we still have a chance of extracting them with a reasonable degree of precision.\n",
    "\n",
    "I'd like to understand why we have a bump in orthogonality for the medium variance components (around 4-6 inclusive). It might be something to do with the fact that PCA gets \"confused\" for the high-variance components where both tasks are varying significantly and could produce more noise. \n",
    "\n",
    "I wonder to what extent the ~20% average interference in each component originates from:\n",
    "- inherent non-orthogonality in the processing of the network\n",
    "- limitations in the use of PCA to find the orthogonal components\n",
    "\n",
    "I could test this by going back to extracting the individual task-specific PCs and plotting the same variance capture plot as above.\n",
    "\n",
    "If PCA is too limited then this means finding orthogonal task treatment in the _parameter_ space could be worth looking at again. Following this idea: it would be an interesting experiment to see if I could train a model to regress the principal components of the activation space (therefore containing the orthogonal task processing vectors) from the parameters. If this was true then I could be more sure that at least the information was there to extract, then I could focus on a cleaner/more general means of extracting the components from the parameters (that hadn't overfit to the particular task at hand).\n",
    "\n",
    "If there was indeed some kind of \"imprint\" of the task components in the parameters of the next layer, this would be a nice idea where the model has aligned itself such that there are almost \"entry-points\" for the task outputs of the last layer into the next layer.\n",
    "\n",
    "### What about the little tasks?\n",
    "\n",
    "What about the tasks that are independent, but do not produce a lot of variance (perhaps because they are less important)? I suppose these might be lost in this noisy PCA process.\n",
    "\n",
    "### What about superposition?\n",
    "\n",
    "What happens when we do not have enough \"capacity\" to model the number of tasks we need to model? It would be interesting to explore \"task sparsity\" and whether it leads to task superposition. I'd hypothesise that we'd start seeing the task solutions collapsing to simpler modes (as I studied in `001-f-equals-ma`) as we added more tasks, because they need to all fit into fewer dimensions.\n",
    "\n",
    "With this in mind, I wonder if one could define the \"required\" dimensionality to model a certain task to a certain accuracy by studying how much of the space is occupied with high-variance components. This could then be used to help produce some kind of scaling law in the multi-task setting and to make predictions of performance.\n",
    "\n",
    "This would be a simple experiment to set up and it'd be interesting to see if we could make some strong predictions for at what point the performance completely breaks down."
   ]
  }
 ],
 "metadata": {
  "kernelspec": {
   "display_name": "physics-mi",
   "language": "python",
   "name": "python3"
  },
  "language_info": {
   "codemirror_mode": {
    "name": "ipython",
    "version": 3
   },
   "file_extension": ".py",
   "mimetype": "text/x-python",
   "name": "python",
   "nbconvert_exporter": "python",
   "pygments_lexer": "ipython3",
   "version": "3.9.16"
  }
 },
 "nbformat": 4,
 "nbformat_minor": 2
}
