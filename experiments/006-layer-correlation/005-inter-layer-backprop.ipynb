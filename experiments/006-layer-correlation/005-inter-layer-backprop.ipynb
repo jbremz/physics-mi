{
 "cells": [
  {
   "attachments": {},
   "cell_type": "markdown",
   "metadata": {},
   "source": [
    "# Interlayer backprop\n",
    "\n",
    "The plan:\n",
    "1. get multi-layer activations for validation set\n",
    "1. get multi-layer activations for task datasets\n",
    "1. calculate PCs from valid_acts for layer1\n",
    "1. use the PCs from layer1 as a linear probe on top of the layer1 activations to produce logits for each PC - this is just a temporary layer to help with our objective \n",
    "1. run the layer0 validation activations through layer1 with its linear probe, storing the gradients\n",
    "1. create a fake loss for each of the logits whereby the difference between a small perturbation is calculated. The mean is found across the dataset.\n",
    "1. back propagate to the input activations and hopefully find the components which maximally activate each of the PCs in the next layer "
   ]
  },
  {
   "cell_type": "code",
   "execution_count": 1,
   "metadata": {},
   "outputs": [],
   "source": [
    "import torch\n",
    "from torch import nn\n",
    "from torch.optim import Adam\n",
    "from matplotlib import pyplot as plt\n",
    "from matplotlib import cm\n",
    "import pandas as pd\n",
    "from tqdm.notebook import tqdm\n",
    "import numpy as np\n",
    "\n",
    "from physics_mi.utils import set_all_seeds"
   ]
  },
  {
   "cell_type": "code",
   "execution_count": 2,
   "metadata": {},
   "outputs": [
    {
     "name": "stdout",
     "output_type": "stream",
     "text": [
      "1211048675\n"
     ]
    }
   ],
   "source": [
    "seed = np.random.randint(1, 2**32 - 1)\n",
    "# seed = 1922977544\n",
    "set_all_seeds(seed)\n",
    "print(seed)"
   ]
  },
  {
   "attachments": {},
   "cell_type": "markdown",
   "metadata": {},
   "source": [
    "## Model\n",
    "\n",
    "Keeping this extremely simple"
   ]
  },
  {
   "cell_type": "code",
   "execution_count": 3,
   "metadata": {},
   "outputs": [],
   "source": [
    "class LinearLayer(nn.Module):\n",
    "    def __init__(self, in_feats, out_feats, use_act=True, *args, **kwargs) -> None:\n",
    "        super().__init__(*args, **kwargs)\n",
    "        self.linear = nn.Linear(in_feats, out_feats)\n",
    "        if use_act:\n",
    "            self.act = nn.ReLU()\n",
    "        self.use_act = use_act\n",
    "\n",
    "    def forward(self, x):\n",
    "        x = self.linear(x)\n",
    "        if self.use_act:\n",
    "            x = self.act(x)\n",
    "        return x\n",
    "\n",
    "\n",
    "class Net(nn.Module):\n",
    "    def __init__(\n",
    "        self, input_dim=4, hidden_dim=16, output_dim=2, *args, **kwargs\n",
    "    ) -> None:\n",
    "        super().__init__(*args, **kwargs)\n",
    "        self.layers = nn.Sequential(\n",
    "            LinearLayer(input_dim, hidden_dim, use_act=True),\n",
    "            LinearLayer(hidden_dim, hidden_dim, use_act=True),\n",
    "            LinearLayer(hidden_dim, output_dim, use_act=False),\n",
    "        )\n",
    "\n",
    "    def forward(self, x):\n",
    "        return self.layers(x)"
   ]
  },
  {
   "attachments": {},
   "cell_type": "markdown",
   "metadata": {},
   "source": [
    "## Data"
   ]
  },
  {
   "cell_type": "code",
   "execution_count": 4,
   "metadata": {},
   "outputs": [
    {
     "name": "stdout",
     "output_type": "stream",
     "text": [
      "torch.Size([10000, 4]) torch.Size([10000, 2])\n"
     ]
    }
   ],
   "source": [
    "import torch\n",
    "\n",
    "# Number of samples\n",
    "n_samples = 10000\n",
    "\n",
    "# Epsilon value\n",
    "eps = 0.5\n",
    "\n",
    "\n",
    "# Generate Y values\n",
    "def generate_Y(n_samples):\n",
    "    return torch.rand(n_samples)\n",
    "\n",
    "\n",
    "# Generate X values based on Y\n",
    "def generate_X(Y, eps):\n",
    "    X = torch.empty(len(Y), 2)\n",
    "    X[:, 0] = Y / (torch.rand(len(Y)) * (1 - eps) + eps)\n",
    "    X[:, 1] = Y / X[:, 0]\n",
    "\n",
    "    # Randomly swap x1 and x2\n",
    "    mask = torch.rand(len(Y)) < 0.5\n",
    "    swap_vals = X[:, 0][mask]\n",
    "    X[:, 0][mask] = X[:, 1][mask]\n",
    "    X[:, 1][mask] = swap_vals\n",
    "\n",
    "    return X\n",
    "\n",
    "\n",
    "# Initial generation\n",
    "Y1 = generate_Y(n_samples)\n",
    "X1 = generate_X(Y1, eps)\n",
    "\n",
    "# Ensure they are statistically independent by generating new Y and X values\n",
    "Y2 = generate_Y(n_samples)\n",
    "X2 = generate_X(Y2, eps)\n",
    "\n",
    "# Stack X1 and X2 to get the desired shape\n",
    "X = torch.cat((X1, X2), dim=1)\n",
    "\n",
    "# Stack Y1 and Y2 for the desired shape\n",
    "Y = torch.stack((Y1, Y2), dim=1)\n",
    "\n",
    "# Validate the relationship\n",
    "assert torch.allclose(X[:, 0] * X[:, 1], Y[:, 0])\n",
    "assert torch.allclose(X[:, 2] * X[:, 3], Y[:, 1])\n",
    "\n",
    "# Print the shapes\n",
    "print(X.shape, Y.shape)"
   ]
  },
  {
   "cell_type": "code",
   "execution_count": 5,
   "metadata": {},
   "outputs": [
    {
     "data": {
      "text/plain": [
       "<matplotlib.legend.Legend at 0x160584460>"
      ]
     },
     "execution_count": 5,
     "metadata": {},
     "output_type": "execute_result"
    },
    {
     "data": {
      "image/png": "[encoded data removed]",
      "text/plain": [
       "<Figure size 640x480 with 1 Axes>"
      ]
     },
     "metadata": {},
     "output_type": "display_data"
    }
   ],
   "source": [
    "fig, ax = plt.subplots()\n",
    "\n",
    "ax.hist(X[:, 0], alpha=0.5, density=True, label=\"mass\")\n",
    "ax.hist(X[:, 1], alpha=0.5, density=True, label=\"acceleration\")\n",
    "ax.hist(Y[:, 0], alpha=0.5, density=True, label=\"force\")\n",
    "ax.legend()"
   ]
  },
  {
   "cell_type": "code",
   "execution_count": 6,
   "metadata": {},
   "outputs": [
    {
     "data": {
      "text/plain": [
       "<matplotlib.legend.Legend at 0x160644a30>"
      ]
     },
     "execution_count": 6,
     "metadata": {},
     "output_type": "execute_result"
    },
    {
     "data": {
      "image/png": "[encoded data removed]",
      "text/plain": [
       "<Figure size 640x480 with 1 Axes>"
      ]
     },
     "metadata": {},
     "output_type": "display_data"
    }
   ],
   "source": [
    "fig, ax = plt.subplots()\n",
    "\n",
    "ax.hist(X[:, 2], alpha=0.5, density=True, label=\"mass\")\n",
    "ax.hist(X[:, 3], alpha=0.5, density=True, label=\"acceleration\")\n",
    "ax.hist(Y[:, 1], alpha=0.5, density=True, label=\"force\")\n",
    "ax.legend()"
   ]
  },
  {
   "cell_type": "markdown",
   "metadata": {},
   "source": [
    "Ok, both now look identically distributed."
   ]
  },
  {
   "cell_type": "code",
   "execution_count": 7,
   "metadata": {},
   "outputs": [
    {
     "data": {
      "text/plain": [
       "(torch.Size([8000, 4]),\n",
       " torch.Size([8000, 2]),\n",
       " torch.Size([2000, 4]),\n",
       " torch.Size([2000, 2]))"
      ]
     },
     "execution_count": 7,
     "metadata": {},
     "output_type": "execute_result"
    }
   ],
   "source": [
    "s_inds = np.random.permutation(range(X.shape[0]))  # shuffled indices\n",
    "\n",
    "X_train = X[s_inds[:8000]]\n",
    "Y_train = Y[s_inds[:8000]]\n",
    "X_valid = X[s_inds[8000:]]\n",
    "Y_valid = Y[s_inds[8000:]]\n",
    "\n",
    "X_train.shape, Y_train.shape, X_valid.shape, Y_valid.shape"
   ]
  },
  {
   "attachments": {},
   "cell_type": "markdown",
   "metadata": {},
   "source": [
    "## Training\n",
    "\n",
    "I'll just do full gradient descent to keep things simple."
   ]
  },
  {
   "cell_type": "code",
   "execution_count": 8,
   "metadata": {},
   "outputs": [
    {
     "data": {
      "application/vnd.jupyter.widget-view+json": {
       "model_id": "a06a2872d0d34ea2890fa8aeb18fc290",
       "version_major": 2,
       "version_minor": 0
      },
      "text/plain": [
       "  0%|          | 0/1000 [00:00<?, ?it/s]"
      ]
     },
     "metadata": {},
     "output_type": "display_data"
    }
   ],
   "source": [
    "N = 1000  # number of epochs\n",
    "hidden_dim = 16  # number of hidden units\n",
    "\n",
    "model = Net(input_dim=4, hidden_dim=hidden_dim, output_dim=2)\n",
    "loss_func = nn.MSELoss()\n",
    "optimiser = Adam(model.parameters(), lr=1e-2)\n",
    "log = []\n",
    "\n",
    "for i in tqdm(range(N)):\n",
    "    log_sample = {}\n",
    "\n",
    "    # Training update\n",
    "    model.train()\n",
    "    model.zero_grad()\n",
    "    Y_hat = model(X_train)\n",
    "    loss = loss_func(Y_hat, Y_train)\n",
    "    log_sample[\"train_loss\"] = float(loss.detach())\n",
    "    loss.backward()\n",
    "    optimiser.step()\n",
    "\n",
    "    # Validation set\n",
    "    model.eval()\n",
    "    Y_hat = model(X_valid)\n",
    "    loss = loss_func(Y_hat, Y_valid)\n",
    "    log_sample[\"valid_loss\"] = float(loss.detach())\n",
    "\n",
    "    log.append(log_sample)\n",
    "\n",
    "df = pd.DataFrame(log)"
   ]
  },
  {
   "attachments": {},
   "cell_type": "markdown",
   "metadata": {},
   "source": [
    "## Results"
   ]
  },
  {
   "cell_type": "code",
   "execution_count": 9,
   "metadata": {},
   "outputs": [],
   "source": [
    "from physics_mi.eval import *\n",
    "\n",
    "\n",
    "# need to avoid flattening here because we have multiple outputs\n",
    "def get_preds(model, X_valid, Y_valid):\n",
    "    model.eval()\n",
    "\n",
    "    with torch.inference_mode():\n",
    "        out = model(X_valid)\n",
    "\n",
    "    y_preds = out.numpy()\n",
    "    y_targs = Y_valid.numpy()\n",
    "\n",
    "    return y_preds, y_targs"
   ]
  },
  {
   "cell_type": "code",
   "execution_count": 10,
   "metadata": {},
   "outputs": [
    {
     "data": {
      "image/png": "[encoded data removed]",
      "text/plain": [
       "<Figure size 640x480 with 1 Axes>"
      ]
     },
     "metadata": {},
     "output_type": "display_data"
    }
   ],
   "source": [
    "plot_loss(df[\"train_loss\"], df[\"valid_loss\"])"
   ]
  },
  {
   "cell_type": "code",
   "execution_count": 11,
   "metadata": {},
   "outputs": [
    {
     "data": {
      "text/plain": [
       "((2000, 2), (2000, 2))"
      ]
     },
     "execution_count": 11,
     "metadata": {},
     "output_type": "execute_result"
    }
   ],
   "source": [
    "y_preds, y_targs = get_preds(model, X_valid, Y_valid)\n",
    "y_preds.shape, y_targs.shape"
   ]
  },
  {
   "cell_type": "code",
   "execution_count": 12,
   "metadata": {},
   "outputs": [
    {
     "data": {
      "text/plain": [
       "tensor(0.0004)"
      ]
     },
     "execution_count": 12,
     "metadata": {},
     "output_type": "execute_result"
    }
   ],
   "source": [
    "get_valid_loss(model, loss_func, X_valid, Y_valid)"
   ]
  },
  {
   "cell_type": "code",
   "execution_count": 13,
   "metadata": {},
   "outputs": [
    {
     "data": {
      "image/png": "[encoded data removed]",
      "text/plain": [
       "<Figure size 1000x1000 with 2 Axes>"
      ]
     },
     "metadata": {},
     "output_type": "display_data"
    }
   ],
   "source": [
    "fig, axes = plt.subplots(1, 2, figsize=(10, 10))\n",
    "\n",
    "plot_results(y_preds[:, 0], y_targs[:, 0], ax=axes[0])\n",
    "plot_results(y_preds[:, 1], y_targs[:, 1], ax=axes[1])"
   ]
  },
  {
   "cell_type": "markdown",
   "metadata": {},
   "source": [
    "Both tasks seem to be doing well in parallel 👍"
   ]
  },
  {
   "attachments": {},
   "cell_type": "markdown",
   "metadata": {},
   "source": [
    "## Introspection"
   ]
  },
  {
   "cell_type": "code",
   "execution_count": 14,
   "metadata": {},
   "outputs": [],
   "source": [
    "from physics_mi.analysis import capture_intermediate_outputs"
   ]
  },
  {
   "cell_type": "code",
   "execution_count": 15,
   "metadata": {},
   "outputs": [],
   "source": [
    "def get_inputs(N=100, vary_task=\"A\"):\n",
    "    pairs = np.concatenate(\n",
    "        np.stack(np.meshgrid(np.linspace(0, 1, N), np.linspace(0, 1, N))).T\n",
    "    )\n",
    "    pairs = torch.tensor(pairs, dtype=torch.float32)\n",
    "    if vary_task == \"A\":\n",
    "        inputs = torch.cat((pairs, torch.full((len(pairs), 2), 0.5)), dim=1)\n",
    "    if vary_task == \"B\":\n",
    "        inputs = torch.cat((torch.full((len(pairs), 2), 0.5), pairs), dim=1)\n",
    "    return inputs"
   ]
  },
  {
   "cell_type": "code",
   "execution_count": 16,
   "metadata": {},
   "outputs": [
    {
     "data": {
      "text/plain": [
       "torch.Size([20000, 4])"
      ]
     },
     "execution_count": 16,
     "metadata": {},
     "output_type": "execute_result"
    }
   ],
   "source": [
    "task_inputs = torch.cat(\n",
    "    (get_inputs(100, vary_task=\"A\"), get_inputs(100, vary_task=\"B\"))\n",
    ")\n",
    "task_inputs.shape"
   ]
  },
  {
   "cell_type": "code",
   "execution_count": 17,
   "metadata": {},
   "outputs": [],
   "source": [
    "valid_ios = capture_intermediate_outputs(model, X_valid)\n",
    "task_ios = capture_intermediate_outputs(model, task_inputs)"
   ]
  },
  {
   "cell_type": "markdown",
   "metadata": {},
   "source": [
    "Now we'd like to compare the principal components at `layers.0.act` with those from `layers.1.act` I think."
   ]
  },
  {
   "cell_type": "code",
   "execution_count": 18,
   "metadata": {},
   "outputs": [],
   "source": [
    "def get_pcs(data):\n",
    "    mean = torch.mean(data, 0)\n",
    "    data_centered = data - mean\n",
    "\n",
    "    # Step 2: Compute the SVD\n",
    "    U, S, V = torch.svd(data_centered)\n",
    "\n",
    "    # The columns of V are the principal components\n",
    "    principal_components = V\n",
    "\n",
    "    # Step 3: Compute variances\n",
    "    variances = S.pow(2) / (data.size(0) - 1)\n",
    "\n",
    "    return principal_components, variances"
   ]
  },
  {
   "cell_type": "code",
   "execution_count": 19,
   "metadata": {},
   "outputs": [
    {
     "data": {
      "text/plain": [
       "(torch.Size([20000, 16]), torch.Size([20000, 16]))"
      ]
     },
     "execution_count": 19,
     "metadata": {},
     "output_type": "execute_result"
    }
   ],
   "source": [
    "task_acts = {}\n",
    "task_acts[\"0\"] = task_ios[\"layers.0.act\"]\n",
    "task_acts[\"1\"] = task_ios[\"layers.1.act\"]\n",
    "task_acts[\"0\"].shape, task_acts[\"1\"].shape"
   ]
  },
  {
   "cell_type": "code",
   "execution_count": 20,
   "metadata": {},
   "outputs": [
    {
     "data": {
      "text/plain": [
       "(torch.Size([2000, 16]), torch.Size([2000, 16]))"
      ]
     },
     "execution_count": 20,
     "metadata": {},
     "output_type": "execute_result"
    }
   ],
   "source": [
    "valid_acts = {}\n",
    "valid_acts[\"0\"] = valid_ios[\"layers.0.act\"]\n",
    "valid_acts[\"1\"] = valid_ios[\"layers.1.act\"]\n",
    "valid_acts[\"0\"].shape, valid_acts[\"1\"].shape"
   ]
  },
  {
   "cell_type": "code",
   "execution_count": 21,
   "metadata": {},
   "outputs": [
    {
     "data": {
      "text/plain": [
       "(torch.Size([16, 16]), torch.Size([16, 16]))"
      ]
     },
     "execution_count": 21,
     "metadata": {},
     "output_type": "execute_result"
    }
   ],
   "source": [
    "valid_pcs = {}\n",
    "valid_vars = {}\n",
    "valid_pcs[\"0\"], valid_vars[\"0\"] = get_pcs(valid_acts[\"0\"])\n",
    "valid_pcs[\"1\"], valid_vars[\"1\"] = get_pcs(valid_acts[\"1\"])\n",
    "valid_pcs[\"0\"].shape, valid_pcs[\"1\"].shape"
   ]
  },
  {
   "cell_type": "code",
   "execution_count": 22,
   "metadata": {},
   "outputs": [],
   "source": [
    "def get_pc_acts(pcs, acts):\n",
    "    pc_acts = (pcs.T[None, :] * acts[:, None, :]).sum(-1)\n",
    "    return pc_acts"
   ]
  },
  {
   "cell_type": "code",
   "execution_count": 23,
   "metadata": {},
   "outputs": [
    {
     "data": {
      "text/plain": [
       "(torch.Size([2000, 16]), torch.Size([2000, 16]))"
      ]
     },
     "execution_count": 23,
     "metadata": {},
     "output_type": "execute_result"
    }
   ],
   "source": [
    "valid_pc_acts = {}\n",
    "valid_pc_acts[\"0\"] = get_pc_acts(valid_pcs[\"0\"], valid_acts[\"0\"])\n",
    "valid_pc_acts[\"1\"] = get_pc_acts(valid_pcs[\"1\"], valid_acts[\"1\"])\n",
    "valid_pc_acts[\"0\"].shape, valid_pc_acts[\"1\"].shape"
   ]
  },
  {
   "cell_type": "code",
   "execution_count": 28,
   "metadata": {},
   "outputs": [
    {
     "data": {
      "text/plain": [
       "(torch.Size([2000, 16]), torch.Size([2000, 16]))"
      ]
     },
     "execution_count": 28,
     "metadata": {},
     "output_type": "execute_result"
    }
   ],
   "source": [
    "valid_ios[\"layers.0.act\"].shape, valid_ios[\"layers.1.act\"].shape"
   ]
  },
  {
   "cell_type": "code",
   "execution_count": 32,
   "metadata": {},
   "outputs": [],
   "source": [
    "def copy_layer(layer_to_copy):\n",
    "    new_layer = LinearLayer(\n",
    "        layer_to_copy.linear.in_features,\n",
    "        layer_to_copy.linear.out_features,\n",
    "        use_act=True,\n",
    "    )\n",
    "    new_layer.load_state_dict(layer_to_copy.state_dict())\n",
    "    return new_layer"
   ]
  },
  {
   "cell_type": "code",
   "execution_count": 88,
   "metadata": {},
   "outputs": [],
   "source": [
    "class ScaffoldNet(nn.Module):\n",
    "    def __init__(self, layer_to_examine, pcs, inputs, *args, **kwargs) -> None:\n",
    "        super().__init__(*args, **kwargs)\n",
    "        self.layer = copy_layer(layer_to_examine).requires_grad_(False)\n",
    "        self.pcs = pcs.clone().requires_grad_(False)\n",
    "        self.inputs = inputs.clone().requires_grad_(True)\n",
    "\n",
    "    def forward(self):\n",
    "        x = self.layer(self.inputs)\n",
    "        out = get_pc_acts(self.pcs, x)\n",
    "        return out\n",
    "\n",
    "\n",
    "def scaffold_loss(out, eps=1e-1):\n",
    "    target = out.clone() + torch.rand_like(out) * eps  # creating some pseudo loss\n",
    "    loss = torch.mean((out - target).abs())\n",
    "    return loss\n",
    "\n",
    "\n",
    "scaffold_model = ScaffoldNet(model.layers[1], valid_pcs[\"1\"], valid_ios[\"layers.0.act\"])\n",
    "\n",
    "out = scaffold_model()\n",
    "loss = scaffold_loss(out)\n",
    "loss.backward()\n",
    "input_gradients = scaffold_model.inputs.grad"
   ]
  },
  {
   "cell_type": "code",
   "execution_count": 89,
   "metadata": {},
   "outputs": [
    {
     "data": {
      "text/plain": [
       "tensor([[0., 0., 0.,  ..., 0., 0., 0.],\n",
       "        [0., 0., 0.,  ..., 0., 0., 0.],\n",
       "        [0., 0., 0.,  ..., 0., 0., 0.],\n",
       "        ...,\n",
       "        [0., 0., 0.,  ..., 0., 0., 0.],\n",
       "        [0., 0., 0.,  ..., 0., 0., 0.],\n",
       "        [0., 0., 0.,  ..., 0., 0., 0.]])"
      ]
     },
     "execution_count": 89,
     "metadata": {},
     "output_type": "execute_result"
    }
   ],
   "source": [
    "input_gradients"
   ]
  },
  {
   "cell_type": "code",
   "execution_count": null,
   "metadata": {},
   "outputs": [],
   "source": []
  },
  {
   "cell_type": "code",
   "execution_count": null,
   "metadata": {},
   "outputs": [],
   "source": []
  },
  {
   "cell_type": "code",
   "execution_count": null,
   "metadata": {},
   "outputs": [],
   "source": []
  },
  {
   "cell_type": "code",
   "execution_count": null,
   "metadata": {},
   "outputs": [],
   "source": []
  },
  {
   "cell_type": "code",
   "execution_count": 30,
   "metadata": {},
   "outputs": [],
   "source": [
    "def plot_similarity(sims, title=\"Dot-product Similarity\", x_label=None):\n",
    "    fig, ax = plt.subplots(figsize=(6, 6))\n",
    "\n",
    "    im = ax.imshow(sims, cmap=\"bwr\", vmin=-1, vmax=1)\n",
    "    cbar = fig.colorbar(im, ax=ax, fraction=0.046, pad=0.04)\n",
    "    cbar.ax.tick_params(labelsize=14)\n",
    "\n",
    "    ax.set_title(title, fontsize=16)\n",
    "    ax.set_xlabel(\"PCA Components\", fontsize=14)\n",
    "    ax.set_ylabel(\"PLSR Components\", fontsize=14)"
   ]
  },
  {
   "cell_type": "code",
   "execution_count": null,
   "metadata": {},
   "outputs": [],
   "source": [
    "plot_similarity(sims)"
   ]
  },
  {
   "cell_type": "code",
   "execution_count": null,
   "metadata": {},
   "outputs": [],
   "source": [
    "cont_comps_A = torch.rand((16, 16)) * 2 - 1\n",
    "cont_comps_A = cont_comps_A / torch.norm(cont_comps_A, dim=0)\n",
    "cont_comps_B = torch.rand((16, 16)) * 2 - 1\n",
    "cont_comps_B = cont_comps_B / torch.norm(cont_comps_B, dim=0)\n",
    "\n",
    "cont_sims = torch.einsum(\"ij,ik->jk\", cont_comps_A, cont_comps_B).numpy()\n",
    "\n",
    "plot_similarity(cont_sims)"
   ]
  },
  {
   "cell_type": "code",
   "execution_count": 33,
   "metadata": {},
   "outputs": [],
   "source": [
    "valid_plsr_task_acts = {}  # i.e. the task set activations when we dot them with the PLSR components from the valid set\n",
    "valid_plsr_task_acts[\"0\"] = get_pc_acts(valid_plsrs[\"0\"], task_acts[\"0\"])\n",
    "valid_plsr_task_acts[\"1\"] = get_pc_acts(valid_plsrs[\"1\"], task_acts[\"1\"])"
   ]
  },
  {
   "cell_type": "code",
   "execution_count": 34,
   "metadata": {},
   "outputs": [],
   "source": [
    "def plot_pca_variances(varA, varB, err_varA=None, err_varB=None):\n",
    "    _, ax = plt.subplots(figsize=(6, 6))\n",
    "\n",
    "    # plot the variances for task A\n",
    "    ax.bar(range(len(varA)), varA, yerr=err_varA, label=\"Task A activations\", alpha=0.5)\n",
    "    ax.bar(range(len(varB)), varB, yerr=err_varB, label=\"Task B activations\", alpha=0.5)\n",
    "    ax.set_xlabel(\"PLSR Component\")\n",
    "    ax.set_ylabel(\"Variance\")\n",
    "    ax.set_title(\n",
    "        \"Variance of PLSR components from validation set\\nfor activations of each task in the task dataset\"\n",
    "    )\n",
    "    ax.legend()"
   ]
  },
  {
   "cell_type": "code",
   "execution_count": 35,
   "metadata": {},
   "outputs": [],
   "source": [
    "sliceA = slice(0, 10000)\n",
    "sliceB = slice(10000, None)\n",
    "varA = torch.var(valid_plsr_task_acts[\"0\"][sliceA], dim=0)\n",
    "varB = torch.var(valid_plsr_task_acts[\"0\"][sliceB], dim=0)"
   ]
  },
  {
   "cell_type": "code",
   "execution_count": null,
   "metadata": {},
   "outputs": [],
   "source": [
    "plot_pca_variances(varA, varB, err_varA=None, err_varB=None)"
   ]
  },
  {
   "cell_type": "markdown",
   "metadata": {},
   "source": []
  }
 ],
 "metadata": {
  "kernelspec": {
   "display_name": "physics-mi",
   "language": "python",
   "name": "python3"
  },
  "language_info": {
   "codemirror_mode": {
    "name": "ipython",
    "version": 3
   },
   "file_extension": ".py",
   "mimetype": "text/x-python",
   "name": "python",
   "nbconvert_exporter": "python",
   "pygments_lexer": "ipython3",
   "version": "3.9.16"
  },
  "orig_nbformat": 4
 },
 "nbformat": 4,
 "nbformat_minor": 2
}
