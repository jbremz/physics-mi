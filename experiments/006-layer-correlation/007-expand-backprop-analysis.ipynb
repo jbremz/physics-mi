{
 "cells": [
  {
   "attachments": {},
   "cell_type": "markdown",
   "metadata": {},
   "source": [
    "# Expand backprop analysis\n",
    "\n",
    "- train multiple models for analysis\n",
    "- do backprop from final output to all of the intermediate layer outputs (as well as the inputs)\n",
    "- confirm task orthogonality throughout"
   ]
  },
  {
   "cell_type": "code",
   "execution_count": 34,
   "metadata": {},
   "outputs": [],
   "source": [
    "import torch\n",
    "from matplotlib import pyplot as plt\n",
    "import numpy as np\n",
    "import pandas as pd\n",
    "from tqdm.notebook import tqdm"
   ]
  },
  {
   "cell_type": "markdown",
   "metadata": {},
   "source": [
    "## Train multiple models"
   ]
  },
  {
   "cell_type": "code",
   "execution_count": null,
   "metadata": {},
   "outputs": [],
   "source": [
    "!python train.py"
   ]
  },
  {
   "cell_type": "code",
   "execution_count": 42,
   "metadata": {},
   "outputs": [
    {
     "data": {
      "text/plain": [
       "100"
      ]
     },
     "execution_count": 42,
     "metadata": {},
     "output_type": "execute_result"
    }
   ],
   "source": [
    "df = pd.read_pickle(\"results/results.pkl\")\n",
    "len(df)"
   ]
  },
  {
   "cell_type": "code",
   "execution_count": 43,
   "metadata": {},
   "outputs": [
    {
     "data": {
      "image/png": "[encoded data removed]",
      "text/plain": [
       "<Figure size 640x480 with 1 Axes>"
      ]
     },
     "metadata": {},
     "output_type": "display_data"
    }
   ],
   "source": [
    "fig, ax = plt.subplots()\n",
    "df[\"valid_loss\"].hist(ax=ax)\n",
    "_ = ax.set_xlabel(\"Valid Loss\")"
   ]
  },
  {
   "cell_type": "markdown",
   "metadata": {},
   "source": [
    "The models look like they've trained well."
   ]
  },
  {
   "cell_type": "markdown",
   "metadata": {},
   "source": [
    "## Backprop"
   ]
  },
  {
   "cell_type": "code",
   "execution_count": 44,
   "metadata": {},
   "outputs": [],
   "source": [
    "from train import generate_data, Net\n",
    "from physics_mi.utils import set_all_seeds\n",
    "from physics_mi.analysis import capture_intermediate_outputs"
   ]
  },
  {
   "cell_type": "code",
   "execution_count": 45,
   "metadata": {},
   "outputs": [],
   "source": [
    "class ScaffoldNet(Net):\n",
    "    def __init__(self, *args, **kwargs) -> None:\n",
    "        super().__init__(*args, **kwargs)\n",
    "        self.requires_grad_(False)\n",
    "\n",
    "    def forward(self, lidx, linputs):\n",
    "        sub_net = self.layers[lidx:]\n",
    "        out = sub_net(linputs)\n",
    "        return out"
   ]
  },
  {
   "cell_type": "code",
   "execution_count": 46,
   "metadata": {},
   "outputs": [
    {
     "data": {
      "application/vnd.jupyter.widget-view+json": {
       "model_id": "97809fa5f7f043dd968c8651c5c525d5",
       "version_major": 2,
       "version_minor": 0
      },
      "text/plain": [
       "  0%|          | 0/100 [00:00<?, ?it/s]"
      ]
     },
     "metadata": {},
     "output_type": "display_data"
    }
   ],
   "source": [
    "layer_keys = [\"input\", \"layers.0.act\", \"layers.1.act\"]\n",
    "tasks = [\"A\", \"B\"]\n",
    "\n",
    "rows = []\n",
    "for i, row in tqdm(df.iterrows(), total=len(df)):  # for each trained model\n",
    "    set_all_seeds(row[\"seed\"])\n",
    "    _, _, X_valid, _ = generate_data()\n",
    "    model = Net()\n",
    "    model.load_state_dict(row[\"model\"])\n",
    "    valid_ios = capture_intermediate_outputs(model, X_valid)\n",
    "    valid_ios = {\n",
    "        \"input\": X_valid,\n",
    "        **valid_ios,\n",
    "    }  # we'd like to compute the gradients of the inputs too\n",
    "\n",
    "    scaffold_model = ScaffoldNet()\n",
    "    scaffold_model.load_state_dict(model.state_dict())\n",
    "\n",
    "    grads = {}\n",
    "    for i, lk in enumerate(layer_keys):  # for each intermediate layer\n",
    "        grads[lk] = {}\n",
    "        for j, task in enumerate(tasks):  # for each task output\n",
    "            # generate grads\n",
    "            linput = valid_ios[lk]\n",
    "            linput = linput.clone().requires_grad_(True)\n",
    "            out = scaffold_model(i, linput)\n",
    "            loss = out[:, j].mean()\n",
    "            loss.backward()\n",
    "\n",
    "            # process grads\n",
    "            grad = linput.grad.clone().detach()\n",
    "            uq_grads = grad.unique(dim=0)\n",
    "            uq_grads_norm = uq_grads.norm(dim=1)\n",
    "            sort_idxs = uq_grads_norm.argsort(descending=True)\n",
    "            uq_grads, uq_grads_norm = uq_grads[sort_idxs], uq_grads_norm[sort_idxs]\n",
    "\n",
    "            # store grads\n",
    "            grads[lk][task] = {}\n",
    "            grads[lk][task][\"comps\"] = uq_grads / uq_grads_norm[:, None]\n",
    "            grads[lk][task][\"norms\"] = uq_grads_norm\n",
    "\n",
    "    row[\"grads\"] = grads\n",
    "\n",
    "    rows.append(row)\n",
    "\n",
    "df = pd.DataFrame(rows)"
   ]
  },
  {
   "cell_type": "markdown",
   "metadata": {},
   "source": [
    "## Analysis"
   ]
  },
  {
   "cell_type": "code",
   "execution_count": null,
   "metadata": {},
   "outputs": [],
   "source": []
  },
  {
   "cell_type": "code",
   "execution_count": null,
   "metadata": {},
   "outputs": [],
   "source": []
  },
  {
   "cell_type": "code",
   "execution_count": null,
   "metadata": {},
   "outputs": [],
   "source": []
  },
  {
   "cell_type": "code",
   "execution_count": null,
   "metadata": {},
   "outputs": [],
   "source": []
  },
  {
   "cell_type": "code",
   "execution_count": null,
   "metadata": {},
   "outputs": [],
   "source": []
  },
  {
   "cell_type": "markdown",
   "metadata": {},
   "source": [
    "The mean is crude but it could be informative:"
   ]
  },
  {
   "cell_type": "code",
   "execution_count": null,
   "metadata": {},
   "outputs": [],
   "source": [
    "meanA = grads[\"A\"][\"gradients\"].mean(0)\n",
    "meanB = grads[\"B\"][\"gradients\"].mean(0)\n",
    "meanA = meanA / meanA.norm()\n",
    "meanB = meanB / meanB.norm()\n",
    "\n",
    "torch.dot(meanA, meanB)"
   ]
  },
  {
   "cell_type": "code",
   "execution_count": null,
   "metadata": {},
   "outputs": [],
   "source": [
    "sims = torch.einsum(\n",
    "    \"ij,kj->ik\", grads[\"A\"][\"unique\"][\"comps\"], grads[\"B\"][\"unique\"][\"comps\"]\n",
    ").numpy()"
   ]
  },
  {
   "cell_type": "code",
   "execution_count": null,
   "metadata": {},
   "outputs": [],
   "source": [
    "def plot_similarity(sims, title=\"Dot-product Similarity\", x_label=None):\n",
    "    fig, ax = plt.subplots(figsize=(6, 6))\n",
    "\n",
    "    im = ax.imshow(sims, cmap=\"bwr\", vmin=-1, vmax=1)\n",
    "    cbar = fig.colorbar(im, ax=ax, fraction=0.046, pad=0.04)\n",
    "    cbar.ax.tick_params(labelsize=14)\n",
    "\n",
    "    ax.set_title(title, fontsize=16)\n",
    "\n",
    "    # I'm pretty sure this is the right way round from ij,ik->jk?\n",
    "    ax.set_xlabel(\"Task B PCA\", fontsize=14)\n",
    "    ax.set_ylabel(\"Task A PCA\", fontsize=14)"
   ]
  },
  {
   "cell_type": "code",
   "execution_count": null,
   "metadata": {},
   "outputs": [],
   "source": [
    "plot_similarity(sims, title=\"Dot-product Similarity\")"
   ]
  },
  {
   "cell_type": "code",
   "execution_count": null,
   "metadata": {},
   "outputs": [],
   "source": [
    "sliceA = slice(0, 10000)\n",
    "sliceB = slice(10000, None)"
   ]
  },
  {
   "cell_type": "markdown",
   "metadata": {},
   "source": [
    "### Task A PCs\n",
    "\n",
    "I'm first focusing on the gradient PCs extracted from backprop from the task A output and how much variance they explain in both tasks."
   ]
  },
  {
   "cell_type": "code",
   "execution_count": null,
   "metadata": {},
   "outputs": [],
   "source": [
    "task = \"A\""
   ]
  },
  {
   "cell_type": "markdown",
   "metadata": {},
   "source": [
    "Calculating how much variance is explained by these gradient PCs across both task datasets:"
   ]
  },
  {
   "cell_type": "code",
   "execution_count": null,
   "metadata": {},
   "outputs": [],
   "source": [
    "sort_idxs = grads[task][\"unique\"][\"norms\"].argsort(descending=True)\n",
    "norms = grads[task][\"unique\"][\"norms\"][sort_idxs]\n",
    "grad_acts = torch.einsum(\"ij,kj->ki\", grads[task][\"unique\"][\"comps\"], task_acts[\"0\"])[\n",
    "    :, sort_idxs\n",
    "]\n",
    "varA = grad_acts[sliceA].var(0)\n",
    "varB = grad_acts[sliceB].var(0)\n",
    "varA.shape, varB.shape"
   ]
  },
  {
   "cell_type": "code",
   "execution_count": null,
   "metadata": {},
   "outputs": [],
   "source": [
    "def plot_pca_variances(varA, varB, grad_pc_variance, err_varA=None, err_varB=None):\n",
    "    fig, ax1 = plt.subplots(figsize=(8, 6))\n",
    "\n",
    "    # Plot the variances for Task A and Task B\n",
    "    ax1.bar(\n",
    "        range(len(varA)),\n",
    "        varA,\n",
    "        yerr=err_varA,\n",
    "        width=0.4,\n",
    "        align=\"center\",\n",
    "        label=\"Task A activations\",\n",
    "        alpha=0.5,\n",
    "    )\n",
    "    ax1.bar(\n",
    "        range(len(varB)),\n",
    "        varB,\n",
    "        yerr=err_varB,\n",
    "        width=0.4,\n",
    "        align=\"center\",\n",
    "        label=\"Task B activations\",\n",
    "        alpha=0.5,\n",
    "    )\n",
    "    ax1.set_xlabel(\"Unique Gradient Component\")\n",
    "    ax1.set_ylabel(\"Variance\")\n",
    "    ax1.legend(loc=\"upper left\")\n",
    "\n",
    "    # Create a second y-axis for PC importance\n",
    "    ax2 = ax1.twinx()\n",
    "    ax2.scatter(\n",
    "        range(len(grad_pc_variance)),\n",
    "        grad_pc_variance,\n",
    "        label=\"Gradient Component Norm\",\n",
    "        color=\"r\",\n",
    "        marker=\"o\",\n",
    "    )\n",
    "    ax2.set_ylim(0)\n",
    "    ax2.set_ylabel(\"Norm\")\n",
    "    ax2.legend(loc=\"upper right\")\n",
    "\n",
    "    ax1.set_title(\n",
    "        \"Task-wise variance explained in activations by each unique gradient component\"\n",
    "    )"
   ]
  },
  {
   "cell_type": "code",
   "execution_count": null,
   "metadata": {},
   "outputs": [],
   "source": [
    "plot_pca_variances(varA, varB, norms)"
   ]
  },
  {
   "cell_type": "markdown",
   "metadata": {},
   "source": [
    "### Task B PCs"
   ]
  },
  {
   "cell_type": "code",
   "execution_count": null,
   "metadata": {},
   "outputs": [],
   "source": [
    "task = \"B\""
   ]
  },
  {
   "cell_type": "code",
   "execution_count": null,
   "metadata": {},
   "outputs": [],
   "source": [
    "sort_idxs = grads[task][\"unique\"][\"norms\"].argsort(descending=True)\n",
    "norms = grads[task][\"unique\"][\"norms\"][sort_idxs]\n",
    "grad_acts = torch.einsum(\"ij,kj->ki\", grads[task][\"unique\"][\"comps\"], task_acts[\"0\"])[\n",
    "    :, sort_idxs\n",
    "]\n",
    "varA = grad_acts[sliceA].var(0)\n",
    "varB = grad_acts[sliceB].var(0)\n",
    "varA.shape, varB.shape"
   ]
  },
  {
   "cell_type": "code",
   "execution_count": null,
   "metadata": {},
   "outputs": [],
   "source": [
    "plot_pca_variances(varA, varB, norms)"
   ]
  }
 ],
 "metadata": {
  "kernelspec": {
   "display_name": "physics-mi",
   "language": "python",
   "name": "python3"
  },
  "language_info": {
   "codemirror_mode": {
    "name": "ipython",
    "version": 3
   },
   "file_extension": ".py",
   "mimetype": "text/x-python",
   "name": "python",
   "nbconvert_exporter": "python",
   "pygments_lexer": "ipython3",
   "version": "3.9.16"
  },
  "orig_nbformat": 4
 },
 "nbformat": 4,
 "nbformat_minor": 2
}
