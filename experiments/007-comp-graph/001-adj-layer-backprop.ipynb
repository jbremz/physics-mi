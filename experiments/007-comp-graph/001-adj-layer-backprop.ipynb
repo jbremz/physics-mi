{
 "cells": [
  {
   "attachments": {},
   "cell_type": "markdown",
   "metadata": {},
   "source": [
    "# Adjacent layer backpropagation\n",
    "\n",
    "Here I'm going to:\n",
    "\n",
    "- take my multitask model from before\n",
    "- extract adjacent layer gradients using the mapping method with the network scaffold I suppose with _normalised_ gradients from the following layer (so as to keep the edge-weights layer-wise, not output-wise - the idea is to create some kind of flow)\n",
    "- extract the intralayer gradients by dotting between gradients for each of the following layer's components. This is a bit difficult to explain but hopefully in code it'll make more sense.\n",
    "- create the edge weights accordingly"
   ]
  },
  {
   "cell_type": "code",
   "execution_count": 1,
   "metadata": {},
   "outputs": [],
   "source": [
    "import torch\n",
    "from torch import nn\n",
    "from torch.optim import Adam\n",
    "from matplotlib import pyplot as plt\n",
    "from matplotlib import cm\n",
    "import pandas as pd\n",
    "from tqdm.notebook import tqdm\n",
    "import numpy as np\n",
    "\n",
    "from physics_mi.utils import set_all_seeds"
   ]
  },
  {
   "cell_type": "code",
   "execution_count": 2,
   "metadata": {},
   "outputs": [
    {
     "name": "stdout",
     "output_type": "stream",
     "text": [
      "1863375946\n"
     ]
    }
   ],
   "source": [
    "seed = np.random.randint(1, 2**32 - 1)\n",
    "# seed = 1322468781  # this one is very interesting\n",
    "set_all_seeds(seed)\n",
    "print(seed)"
   ]
  },
  {
   "attachments": {},
   "cell_type": "markdown",
   "metadata": {},
   "source": [
    "## Model\n",
    "\n",
    "Keeping this extremely simple"
   ]
  },
  {
   "cell_type": "code",
   "execution_count": 3,
   "metadata": {},
   "outputs": [],
   "source": [
    "class LinearLayer(nn.Module):\n",
    "    def __init__(self, in_feats, out_feats, use_act=True, *args, **kwargs) -> None:\n",
    "        super().__init__(*args, **kwargs)\n",
    "        self.linear = nn.Linear(in_feats, out_feats)\n",
    "        if use_act:\n",
    "            self.act = nn.ReLU()\n",
    "        self.use_act = use_act\n",
    "\n",
    "    def forward(self, x):\n",
    "        x = self.linear(x)\n",
    "        if self.use_act:\n",
    "            x = self.act(x)\n",
    "        return x\n",
    "\n",
    "\n",
    "class Net(nn.Module):\n",
    "    def __init__(\n",
    "        self, input_dim=4, hidden_dim=16, output_dim=2, *args, **kwargs\n",
    "    ) -> None:\n",
    "        super().__init__(*args, **kwargs)\n",
    "        self.layers = nn.Sequential(\n",
    "            LinearLayer(input_dim, hidden_dim, use_act=True),\n",
    "            LinearLayer(hidden_dim, hidden_dim, use_act=True),\n",
    "            LinearLayer(hidden_dim, output_dim, use_act=False),\n",
    "        )\n",
    "\n",
    "    def forward(self, x):\n",
    "        return self.layers(x)"
   ]
  },
  {
   "attachments": {},
   "cell_type": "markdown",
   "metadata": {},
   "source": [
    "## Data"
   ]
  },
  {
   "cell_type": "code",
   "execution_count": 4,
   "metadata": {},
   "outputs": [
    {
     "name": "stdout",
     "output_type": "stream",
     "text": [
      "torch.Size([10000, 4]) torch.Size([10000, 2])\n"
     ]
    }
   ],
   "source": [
    "import torch\n",
    "\n",
    "# Number of samples\n",
    "n_samples = 10000\n",
    "\n",
    "# Epsilon value\n",
    "eps = 0.5\n",
    "\n",
    "\n",
    "# Generate Y values\n",
    "def generate_Y(n_samples):\n",
    "    return torch.rand(n_samples)\n",
    "\n",
    "\n",
    "# Generate X values based on Y\n",
    "def generate_X(Y, eps):\n",
    "    X = torch.empty(len(Y), 2)\n",
    "    X[:, 0] = Y / (torch.rand(len(Y)) * (1 - eps) + eps)\n",
    "    X[:, 1] = Y / X[:, 0]\n",
    "\n",
    "    # Randomly swap x1 and x2\n",
    "    mask = torch.rand(len(Y)) < 0.5\n",
    "    swap_vals = X[:, 0][mask]\n",
    "    X[:, 0][mask] = X[:, 1][mask]\n",
    "    X[:, 1][mask] = swap_vals\n",
    "\n",
    "    return X\n",
    "\n",
    "\n",
    "# Initial generation\n",
    "Y1 = generate_Y(n_samples)\n",
    "X1 = generate_X(Y1, eps)\n",
    "\n",
    "# Ensure they are statistically independent by generating new Y and X values\n",
    "Y2 = generate_Y(n_samples)\n",
    "X2 = generate_X(Y2, eps)\n",
    "\n",
    "# Stack X1 and X2 to get the desired shape\n",
    "X = torch.cat((X1, X2), dim=1)\n",
    "\n",
    "# Stack Y1 and Y2 for the desired shape\n",
    "Y = torch.stack((Y1, Y2), dim=1)\n",
    "\n",
    "# Validate the relationship\n",
    "assert torch.allclose(X[:, 0] * X[:, 1], Y[:, 0])\n",
    "assert torch.allclose(X[:, 2] * X[:, 3], Y[:, 1])\n",
    "\n",
    "# Print the shapes\n",
    "print(X.shape, Y.shape)"
   ]
  },
  {
   "cell_type": "code",
   "execution_count": 5,
   "metadata": {},
   "outputs": [
    {
     "data": {
      "text/plain": [
       "<matplotlib.legend.Legend at 0x168312460>"
      ]
     },
     "execution_count": 5,
     "metadata": {},
     "output_type": "execute_result"
    },
    {
     "data": {
      "image/png": "[encoded data removed]",
      "text/plain": [
       "<Figure size 640x480 with 1 Axes>"
      ]
     },
     "metadata": {},
     "output_type": "display_data"
    }
   ],
   "source": [
    "fig, ax = plt.subplots()\n",
    "\n",
    "ax.hist(X[:, 0], alpha=0.5, density=True, label=\"mass\")\n",
    "ax.hist(X[:, 1], alpha=0.5, density=True, label=\"acceleration\")\n",
    "ax.hist(Y[:, 0], alpha=0.5, density=True, label=\"force\")\n",
    "ax.legend()"
   ]
  },
  {
   "cell_type": "code",
   "execution_count": 6,
   "metadata": {},
   "outputs": [
    {
     "data": {
      "text/plain": [
       "<matplotlib.legend.Legend at 0x169418ca0>"
      ]
     },
     "execution_count": 6,
     "metadata": {},
     "output_type": "execute_result"
    },
    {
     "data": {
      "image/png": "[encoded data removed]",
      "text/plain": [
       "<Figure size 640x480 with 1 Axes>"
      ]
     },
     "metadata": {},
     "output_type": "display_data"
    }
   ],
   "source": [
    "fig, ax = plt.subplots()\n",
    "\n",
    "ax.hist(X[:, 2], alpha=0.5, density=True, label=\"mass\")\n",
    "ax.hist(X[:, 3], alpha=0.5, density=True, label=\"acceleration\")\n",
    "ax.hist(Y[:, 1], alpha=0.5, density=True, label=\"force\")\n",
    "ax.legend()"
   ]
  },
  {
   "cell_type": "markdown",
   "metadata": {},
   "source": [
    "Ok, both now look identically distributed."
   ]
  },
  {
   "cell_type": "code",
   "execution_count": 7,
   "metadata": {},
   "outputs": [
    {
     "data": {
      "text/plain": [
       "(torch.Size([8000, 4]),\n",
       " torch.Size([8000, 2]),\n",
       " torch.Size([2000, 4]),\n",
       " torch.Size([2000, 2]))"
      ]
     },
     "execution_count": 7,
     "metadata": {},
     "output_type": "execute_result"
    }
   ],
   "source": [
    "s_inds = np.random.permutation(range(X.shape[0]))  # shuffled indices\n",
    "\n",
    "X_train = X[s_inds[:8000]]\n",
    "Y_train = Y[s_inds[:8000]]\n",
    "X_valid = X[s_inds[8000:]]\n",
    "Y_valid = Y[s_inds[8000:]]\n",
    "\n",
    "X_train.shape, Y_train.shape, X_valid.shape, Y_valid.shape"
   ]
  },
  {
   "attachments": {},
   "cell_type": "markdown",
   "metadata": {},
   "source": [
    "## Training\n",
    "\n",
    "I'll just do full gradient descent to keep things simple."
   ]
  },
  {
   "cell_type": "code",
   "execution_count": 8,
   "metadata": {},
   "outputs": [
    {
     "data": {
      "application/vnd.jupyter.widget-view+json": {
       "model_id": "765a41f99c5f47c28266cca14edf4aa7",
       "version_major": 2,
       "version_minor": 0
      },
      "text/plain": [
       "  0%|          | 0/1000 [00:00<?, ?it/s]"
      ]
     },
     "metadata": {},
     "output_type": "display_data"
    }
   ],
   "source": [
    "N = 1000  # number of epochs\n",
    "hidden_dim = 16  # number of hidden units\n",
    "\n",
    "model = Net(input_dim=4, hidden_dim=hidden_dim, output_dim=2)\n",
    "loss_func = nn.MSELoss()\n",
    "optimiser = Adam(model.parameters(), lr=1e-2)\n",
    "log = []\n",
    "\n",
    "for i in tqdm(range(N)):\n",
    "    log_sample = {}\n",
    "\n",
    "    # Training update\n",
    "    model.train()\n",
    "    model.zero_grad()\n",
    "    Y_hat = model(X_train)\n",
    "    loss = loss_func(Y_hat, Y_train)\n",
    "    log_sample[\"train_loss\"] = float(loss.detach())\n",
    "    loss.backward()\n",
    "    optimiser.step()\n",
    "\n",
    "    # Validation set\n",
    "    model.eval()\n",
    "    Y_hat = model(X_valid)\n",
    "    loss = loss_func(Y_hat, Y_valid)\n",
    "    log_sample[\"valid_loss\"] = float(loss.detach())\n",
    "\n",
    "    log.append(log_sample)\n",
    "\n",
    "df = pd.DataFrame(log)"
   ]
  },
  {
   "attachments": {},
   "cell_type": "markdown",
   "metadata": {},
   "source": [
    "## Results"
   ]
  },
  {
   "cell_type": "code",
   "execution_count": 9,
   "metadata": {},
   "outputs": [],
   "source": [
    "from physics_mi.eval import *\n",
    "\n",
    "\n",
    "# need to avoid flattening here because we have multiple outputs\n",
    "def get_preds(model, X_valid, Y_valid):\n",
    "    model.eval()\n",
    "\n",
    "    with torch.inference_mode():\n",
    "        out = model(X_valid)\n",
    "\n",
    "    y_preds = out.numpy()\n",
    "    y_targs = Y_valid.numpy()\n",
    "\n",
    "    return y_preds, y_targs"
   ]
  },
  {
   "cell_type": "code",
   "execution_count": 10,
   "metadata": {},
   "outputs": [
    {
     "data": {
      "image/png": "[encoded data removed]",
      "text/plain": [
       "<Figure size 640x480 with 1 Axes>"
      ]
     },
     "metadata": {},
     "output_type": "display_data"
    }
   ],
   "source": [
    "plot_loss(df[\"train_loss\"], df[\"valid_loss\"])"
   ]
  },
  {
   "cell_type": "code",
   "execution_count": 11,
   "metadata": {},
   "outputs": [
    {
     "data": {
      "text/plain": [
       "((2000, 2), (2000, 2))"
      ]
     },
     "execution_count": 11,
     "metadata": {},
     "output_type": "execute_result"
    }
   ],
   "source": [
    "y_preds, y_targs = get_preds(model, X_valid, Y_valid)\n",
    "y_preds.shape, y_targs.shape"
   ]
  },
  {
   "cell_type": "code",
   "execution_count": 12,
   "metadata": {},
   "outputs": [
    {
     "data": {
      "text/plain": [
       "tensor(0.0005)"
      ]
     },
     "execution_count": 12,
     "metadata": {},
     "output_type": "execute_result"
    }
   ],
   "source": [
    "get_valid_loss(model, loss_func, X_valid, Y_valid)"
   ]
  },
  {
   "cell_type": "code",
   "execution_count": 13,
   "metadata": {},
   "outputs": [
    {
     "data": {
      "image/png": "[encoded data removed]",
      "text/plain": [
       "<Figure size 1000x1000 with 2 Axes>"
      ]
     },
     "metadata": {},
     "output_type": "display_data"
    }
   ],
   "source": [
    "fig, axes = plt.subplots(1, 2, figsize=(10, 10))\n",
    "\n",
    "plot_results(y_preds[:, 0], y_targs[:, 0], ax=axes[0])\n",
    "plot_results(y_preds[:, 1], y_targs[:, 1], ax=axes[1])"
   ]
  },
  {
   "cell_type": "markdown",
   "metadata": {},
   "source": [
    "Both tasks seem to be doing well in parallel 👍"
   ]
  },
  {
   "attachments": {},
   "cell_type": "markdown",
   "metadata": {},
   "source": [
    "## Introspection"
   ]
  },
  {
   "cell_type": "code",
   "execution_count": 14,
   "metadata": {},
   "outputs": [],
   "source": [
    "from physics_mi.analysis import capture_intermediate_outputs"
   ]
  },
  {
   "cell_type": "code",
   "execution_count": 15,
   "metadata": {},
   "outputs": [],
   "source": [
    "def get_inputs(N=100, vary_task=\"A\"):\n",
    "    pairs = np.concatenate(\n",
    "        np.stack(np.meshgrid(np.linspace(0, 1, N), np.linspace(0, 1, N))).T\n",
    "    )\n",
    "    pairs = torch.tensor(pairs, dtype=torch.float32)\n",
    "    if vary_task == \"A\":\n",
    "        inputs = torch.cat((pairs, torch.full((len(pairs), 2), 0.5)), dim=1)\n",
    "    if vary_task == \"B\":\n",
    "        inputs = torch.cat((torch.full((len(pairs), 2), 0.5), pairs), dim=1)\n",
    "    return inputs"
   ]
  },
  {
   "cell_type": "code",
   "execution_count": 16,
   "metadata": {},
   "outputs": [
    {
     "data": {
      "text/plain": [
       "torch.Size([20000, 4])"
      ]
     },
     "execution_count": 16,
     "metadata": {},
     "output_type": "execute_result"
    }
   ],
   "source": [
    "task_inputs = torch.cat(\n",
    "    (get_inputs(100, vary_task=\"A\"), get_inputs(100, vary_task=\"B\"))\n",
    ")\n",
    "task_inputs.shape"
   ]
  },
  {
   "cell_type": "code",
   "execution_count": 33,
   "metadata": {},
   "outputs": [],
   "source": [
    "valid_ios = capture_intermediate_outputs(model, X_valid)\n",
    "valid_ios[\"input\"] = X_valid\n",
    "task_ios = capture_intermediate_outputs(model, task_inputs)\n",
    "task_ios[\"input\"] = task_inputs"
   ]
  },
  {
   "cell_type": "code",
   "execution_count": 24,
   "metadata": {},
   "outputs": [
    {
     "data": {
      "text/plain": [
       "(torch.Size([2000, 16]), torch.Size([2000, 16]))"
      ]
     },
     "execution_count": 24,
     "metadata": {},
     "output_type": "execute_result"
    }
   ],
   "source": [
    "valid_ios[\"layers.0.act\"].shape, valid_ios[\"layers.1.act\"].shape"
   ]
  },
  {
   "cell_type": "code",
   "execution_count": 25,
   "metadata": {},
   "outputs": [
    {
     "data": {
      "text/plain": [
       "Net(\n",
       "  (layers): Sequential(\n",
       "    (0): LinearLayer(\n",
       "      (linear): Linear(in_features=4, out_features=16, bias=True)\n",
       "      (act): ReLU()\n",
       "    )\n",
       "    (1): LinearLayer(\n",
       "      (linear): Linear(in_features=16, out_features=16, bias=True)\n",
       "      (act): ReLU()\n",
       "    )\n",
       "    (2): LinearLayer(\n",
       "      (linear): Linear(in_features=16, out_features=2, bias=True)\n",
       "    )\n",
       "  )\n",
       ")"
      ]
     },
     "execution_count": 25,
     "metadata": {},
     "output_type": "execute_result"
    }
   ],
   "source": [
    "model"
   ]
  },
  {
   "cell_type": "code",
   "execution_count": 36,
   "metadata": {},
   "outputs": [
    {
     "data": {
      "text/plain": [
       "<All keys matched successfully>"
      ]
     },
     "execution_count": 36,
     "metadata": {},
     "output_type": "execute_result"
    }
   ],
   "source": [
    "class ScaffoldNet(Net):\n",
    "    def __init__(self, *args, **kwargs) -> None:\n",
    "        super().__init__(*args, **kwargs)\n",
    "        self.requires_grad_(False)\n",
    "\n",
    "    def forward(self, lidx, linputs):\n",
    "        sub_net = self.layers[lidx : lidx + 1]\n",
    "        out = sub_net(linputs)\n",
    "        return out\n",
    "\n",
    "\n",
    "scaffold_model = ScaffoldNet()\n",
    "scaffold_model.load_state_dict(model.state_dict())"
   ]
  },
  {
   "cell_type": "code",
   "execution_count": 46,
   "metadata": {},
   "outputs": [
    {
     "data": {
      "text/plain": [
       "['layers.1.act', 'layers.0.act', 'input']"
      ]
     },
     "execution_count": 46,
     "metadata": {},
     "output_type": "execute_result"
    }
   ],
   "source": [
    "layer_keys[::-1][1:]"
   ]
  },
  {
   "cell_type": "code",
   "execution_count": 70,
   "metadata": {},
   "outputs": [
    {
     "data": {
      "text/plain": [
       "torch.Size([2000, 16])"
      ]
     },
     "execution_count": 70,
     "metadata": {},
     "output_type": "execute_result"
    }
   ],
   "source": [
    "out.shape"
   ]
  },
  {
   "cell_type": "code",
   "execution_count": 94,
   "metadata": {},
   "outputs": [
    {
     "name": "stdout",
     "output_type": "stream",
     "text": [
      "2 layers.1.act output\n"
     ]
    }
   ],
   "source": [
    "grads = {}\n",
    "layer_keys = [\"input\", \"layers.0.act\", \"layers.1.act\", \"output\"]\n",
    "reversed_layer_keys = layer_keys[::-1]\n",
    "reverse_indices = list(range(len(layer_keys) - 1))[::-1]\n",
    "out_grad_comps = None\n",
    "for lidx, lk_input, lk_output in zip(\n",
    "    reverse_indices,\n",
    "    reversed_layer_keys[1:],\n",
    "    reversed_layer_keys[:-1],\n",
    "):  # iterate over pairs of layers at a time\n",
    "    print(lidx, lk_input, lk_output)\n",
    "    linputs = valid_ios[lk_input].clone().requires_grad_(True)\n",
    "    out = scaffold_model(lidx, linputs)\n",
    "    if (\n",
    "        out_grad_comps is not None\n",
    "    ):  # not at the final layer so need to convert to components as opposed to outputs\n",
    "        out = torch.einsum(\"ij,kj->ik\", out, out_grad_comps)\n",
    "\n",
    "    grads[lk_input] = []\n",
    "    for out_comp in out.transpose(1, 0):\n",
    "        loss = out_comp.mean()\n",
    "        loss.backward(retain_graph=True)\n",
    "        input_grads = linputs.grad.clone().detach()\n",
    "        uq_input_grads = input_grads.unique(dim=0)\n",
    "        input_norms = torch.norm(uq_input_grads, dim=1)\n",
    "        sort_idx = torch.argsort(input_norms, descending=True)\n",
    "        uq_input_grads = uq_input_grads[sort_idx]\n",
    "        grads[lk_input].append(uq_input_grads)\n",
    "        linputs.grad.zero_()\n",
    "        out_grad_comps = uq_input_grads.clone().requires_grad_(False)\n",
    "\n",
    "    if lk_input == \"layers.1.act\":\n",
    "        break\n",
    "\n",
    "\n",
    "# for i, task in enumerate(tasks):\n",
    "#     linputs = valid_ios[\"layers.0.act\"].clone().requires_grad_(True)\n",
    "#     out = scaffold_model(1, linputs)\n",
    "#     loss = out[:, i].mean()\n",
    "#     loss.backward()\n",
    "#     grads[task] = {}\n",
    "#     grads[task][\"gradients\"] = linputs.grad.clone().detach()\n",
    "\n",
    "# for task, _ in grads.items():\n",
    "#     grads[task][\"pcs\"], grads[task][\"vars\"] = get_pcs(grads[task][\"gradients\"])\n",
    "#     uq_grads = grads[task][\"gradients\"].unique(dim=0)\n",
    "#     uq_grads_norm = uq_grads.norm(dim=1)\n",
    "#     grads[task][\"unique\"] = {}\n",
    "#     grads[task][\"unique\"][\"comps\"] = uq_grads / uq_grads_norm[:, None]\n",
    "#     grads[task][\"unique\"][\"norms\"] = uq_grads_norm"
   ]
  },
  {
   "cell_type": "code",
   "execution_count": 95,
   "metadata": {},
   "outputs": [
    {
     "data": {
      "text/plain": [
       "torch.Size([1, 16])"
      ]
     },
     "execution_count": 95,
     "metadata": {},
     "output_type": "execute_result"
    }
   ],
   "source": [
    "out_grad_comps.shape"
   ]
  },
  {
   "cell_type": "code",
   "execution_count": 92,
   "metadata": {},
   "outputs": [
    {
     "data": {
      "text/plain": [
       "torch.Size([2000, 1])"
      ]
     },
     "execution_count": 92,
     "metadata": {},
     "output_type": "execute_result"
    }
   ],
   "source": [
    "out.shape"
   ]
  },
  {
   "cell_type": "code",
   "execution_count": 90,
   "metadata": {},
   "outputs": [
    {
     "data": {
      "text/plain": [
       "[2, 1, 8]"
      ]
     },
     "execution_count": 90,
     "metadata": {},
     "output_type": "execute_result"
    }
   ],
   "source": [
    "[len(t) for t in grads.values()]"
   ]
  },
  {
   "cell_type": "code",
   "execution_count": null,
   "metadata": {},
   "outputs": [],
   "source": []
  },
  {
   "cell_type": "code",
   "execution_count": 82,
   "metadata": {},
   "outputs": [
    {
     "data": {
      "text/plain": [
       "tensor([[ 1.9234e-03,  8.7522e-04, -4.3786e-04, -1.1296e-04],\n",
       "        [ 1.6065e-03,  8.7282e-04, -3.4096e-04,  9.2470e-04],\n",
       "        [ 1.2855e-03,  1.2082e-03, -3.2955e-04,  9.3283e-04],\n",
       "        [ 1.5764e-03,  8.6429e-04, -5.3897e-04,  7.2888e-04],\n",
       "        [ 1.4122e-03,  7.0444e-04, -2.4291e-04,  1.2029e-03],\n",
       "        [ 1.2554e-03,  1.1997e-03, -5.2755e-04,  7.3701e-04],\n",
       "        [ 1.7432e-03,  8.4343e-04, -2.2854e-04,  9.7527e-05],\n",
       "        [ 1.0912e-03,  1.0399e-03, -2.3150e-04,  1.2111e-03],\n",
       "        [ 1.6060e-03,  8.7120e-04, -5.8289e-06,  5.3426e-04],\n",
       "        [ 1.3820e-03,  6.9590e-04, -4.4092e-04,  1.0071e-03],\n",
       "        [ 1.0610e-03,  1.0313e-03, -4.2950e-04,  1.0152e-03],\n",
       "        [ 1.2850e-03,  1.2066e-03,  5.5850e-06,  5.4239e-04],\n",
       "        [ 1.5759e-03,  8.6266e-04, -2.0383e-04,  3.3845e-04],\n",
       "        [ 1.5073e-03,  7.5513e-04,  1.8328e-04,  5.8443e-04],\n",
       "        [ 1.2549e-03,  1.1981e-03, -1.9242e-04,  3.4658e-04],\n",
       "        [ 1.1863e-03,  1.0906e-03,  1.9470e-04,  5.9256e-04],\n",
       "        [ 1.4772e-03,  7.4660e-04, -1.4721e-05,  3.8862e-04],\n",
       "        [ 1.1562e-03,  1.0820e-03, -3.3068e-06,  3.9675e-04],\n",
       "        [ 9.7042e-04,  9.8191e-04, -8.4684e-05,  3.1273e-04],\n",
       "        [ 9.0183e-04,  8.7438e-04,  3.0243e-04,  5.5871e-04],\n",
       "        [ 8.7170e-04,  8.6585e-04,  1.0443e-04,  3.6290e-04]])"
      ]
     },
     "execution_count": 82,
     "metadata": {},
     "output_type": "execute_result"
    }
   ],
   "source": [
    "uq_input_grads"
   ]
  },
  {
   "cell_type": "code",
   "execution_count": 38,
   "metadata": {},
   "outputs": [
    {
     "data": {
      "text/plain": [
       "tensor([[0.6908, 0.0889],\n",
       "        [0.1177, 0.8205],\n",
       "        [0.6280, 0.1391],\n",
       "        ...,\n",
       "        [0.0836, 0.4162],\n",
       "        [0.0484, 0.2168],\n",
       "        [0.0922, 0.4455]], grad_fn=<AddmmBackward0>)"
      ]
     },
     "execution_count": 38,
     "metadata": {},
     "output_type": "execute_result"
    }
   ],
   "source": [
    "out"
   ]
  },
  {
   "cell_type": "code",
   "execution_count": null,
   "metadata": {},
   "outputs": [],
   "source": [
    "fig, axes = plt.subplots(1, 2, figsize=(8, 4))\n",
    "\n",
    "for ax, task in zip(axes, (\"A\", \"B\")):\n",
    "    ax.bar(range(1, 17), grads[task][\"vars\"])\n",
    "    ax.set_title(f\"Task {task}\")\n",
    "    ax.set_xlabel(\"PC\")\n",
    "    ax.set_ylabel(\"Variance\")\n",
    "\n",
    "fig.suptitle(\"Task-wise principal components of activation gradients\")\n",
    "fig.set_tight_layout(\"tight\")"
   ]
  },
  {
   "cell_type": "markdown",
   "metadata": {},
   "source": [
    "The mean is crude but it could be informative:"
   ]
  },
  {
   "cell_type": "code",
   "execution_count": null,
   "metadata": {},
   "outputs": [],
   "source": [
    "meanA = grads[\"A\"][\"gradients\"].mean(0)\n",
    "meanB = grads[\"B\"][\"gradients\"].mean(0)\n",
    "meanA = meanA / meanA.norm()\n",
    "meanB = meanB / meanB.norm()\n",
    "\n",
    "torch.dot(meanA, meanB)"
   ]
  },
  {
   "cell_type": "code",
   "execution_count": null,
   "metadata": {},
   "outputs": [],
   "source": [
    "sims = torch.einsum(\n",
    "    \"ij,kj->ik\", grads[\"A\"][\"unique\"][\"comps\"], grads[\"B\"][\"unique\"][\"comps\"]\n",
    ").numpy()"
   ]
  },
  {
   "cell_type": "code",
   "execution_count": null,
   "metadata": {},
   "outputs": [],
   "source": [
    "def plot_similarity(sims, title=\"Dot-product Similarity\", x_label=None):\n",
    "    fig, ax = plt.subplots(figsize=(6, 6))\n",
    "\n",
    "    im = ax.imshow(sims, cmap=\"bwr\", vmin=-1, vmax=1)\n",
    "    cbar = fig.colorbar(im, ax=ax, fraction=0.046, pad=0.04)\n",
    "    cbar.ax.tick_params(labelsize=14)\n",
    "\n",
    "    ax.set_title(title, fontsize=16)\n",
    "\n",
    "    # I'm pretty sure this is the right way round from ij,ik->jk?\n",
    "    ax.set_xlabel(\"Task B PCA\", fontsize=14)\n",
    "    ax.set_ylabel(\"Task A PCA\", fontsize=14)"
   ]
  },
  {
   "cell_type": "code",
   "execution_count": null,
   "metadata": {},
   "outputs": [],
   "source": [
    "plot_similarity(sims, title=\"Dot-product Similarity\")"
   ]
  },
  {
   "cell_type": "code",
   "execution_count": null,
   "metadata": {},
   "outputs": [],
   "source": [
    "sliceA = slice(0, 10000)\n",
    "sliceB = slice(10000, None)"
   ]
  },
  {
   "cell_type": "markdown",
   "metadata": {},
   "source": [
    "### Task A PCs\n",
    "\n",
    "I'm first focusing on the gradient PCs extracted from backprop from the task A output and how much variance they explain in both tasks."
   ]
  },
  {
   "cell_type": "code",
   "execution_count": null,
   "metadata": {},
   "outputs": [],
   "source": [
    "task = \"A\""
   ]
  },
  {
   "cell_type": "markdown",
   "metadata": {},
   "source": [
    "Calculating how much variance is explained by these gradient PCs across both task datasets:"
   ]
  },
  {
   "cell_type": "code",
   "execution_count": null,
   "metadata": {},
   "outputs": [],
   "source": [
    "sort_idxs = grads[task][\"unique\"][\"norms\"].argsort(descending=True)\n",
    "norms = grads[task][\"unique\"][\"norms\"][sort_idxs]\n",
    "grad_acts = torch.einsum(\"ij,kj->ki\", grads[task][\"unique\"][\"comps\"], task_acts[\"0\"])[\n",
    "    :, sort_idxs\n",
    "]\n",
    "varA = grad_acts[sliceA].var(0)\n",
    "varB = grad_acts[sliceB].var(0)\n",
    "varA.shape, varB.shape"
   ]
  },
  {
   "cell_type": "code",
   "execution_count": null,
   "metadata": {},
   "outputs": [],
   "source": [
    "def plot_pca_variances(varA, varB, grad_pc_variance, err_varA=None, err_varB=None):\n",
    "    fig, ax1 = plt.subplots(figsize=(8, 6))\n",
    "\n",
    "    # Plot the variances for Task A and Task B\n",
    "    ax1.bar(\n",
    "        range(len(varA)),\n",
    "        varA,\n",
    "        yerr=err_varA,\n",
    "        width=0.4,\n",
    "        align=\"center\",\n",
    "        label=\"Task A activations\",\n",
    "        alpha=0.5,\n",
    "    )\n",
    "    ax1.bar(\n",
    "        range(len(varB)),\n",
    "        varB,\n",
    "        yerr=err_varB,\n",
    "        width=0.4,\n",
    "        align=\"center\",\n",
    "        label=\"Task B activations\",\n",
    "        alpha=0.5,\n",
    "    )\n",
    "    ax1.set_xlabel(\"Unique Gradient Component\")\n",
    "    ax1.set_ylabel(\"Variance\")\n",
    "    ax1.legend(loc=\"upper left\")\n",
    "\n",
    "    # Create a second y-axis for PC importance\n",
    "    ax2 = ax1.twinx()\n",
    "    ax2.scatter(\n",
    "        range(len(grad_pc_variance)),\n",
    "        grad_pc_variance,\n",
    "        label=\"Gradient Component Norm\",\n",
    "        color=\"r\",\n",
    "        marker=\"o\",\n",
    "    )\n",
    "    ax2.set_ylim(0)\n",
    "    ax2.set_ylabel(\"Norm\")\n",
    "    ax2.legend(loc=\"upper right\")\n",
    "\n",
    "    ax1.set_title(\n",
    "        \"Task-wise variance explained in activations by each unique gradient component\"\n",
    "    )"
   ]
  },
  {
   "cell_type": "code",
   "execution_count": null,
   "metadata": {},
   "outputs": [],
   "source": [
    "plot_pca_variances(varA, varB, norms)"
   ]
  },
  {
   "cell_type": "markdown",
   "metadata": {},
   "source": [
    "### Task B PCs"
   ]
  },
  {
   "cell_type": "code",
   "execution_count": null,
   "metadata": {},
   "outputs": [],
   "source": [
    "task = \"B\""
   ]
  },
  {
   "cell_type": "code",
   "execution_count": null,
   "metadata": {},
   "outputs": [],
   "source": [
    "sort_idxs = grads[task][\"unique\"][\"norms\"].argsort(descending=True)\n",
    "norms = grads[task][\"unique\"][\"norms\"][sort_idxs]\n",
    "grad_acts = torch.einsum(\"ij,kj->ki\", grads[task][\"unique\"][\"comps\"], task_acts[\"0\"])[\n",
    "    :, sort_idxs\n",
    "]\n",
    "varA = grad_acts[sliceA].var(0)\n",
    "varB = grad_acts[sliceB].var(0)\n",
    "varA.shape, varB.shape"
   ]
  },
  {
   "cell_type": "code",
   "execution_count": null,
   "metadata": {},
   "outputs": [],
   "source": [
    "plot_pca_variances(varA, varB, norms)"
   ]
  },
  {
   "cell_type": "markdown",
   "metadata": {},
   "source": [
    "## Thoughts\n",
    "\n",
    "Wow really went on a journey with this one.\n",
    "- It took me a long time to notice (especially given that the dimensionality reduction techniques don't tend to deal with clusters of identical vectors as they should i.e. an infinitely dense cluster) but there is a **_discrete_ number of different gradients that are observed**. \n",
    "- That seemed pretty wild at first but I'm getting a better idea of maybe why this is to be expected. If we're working with simple linear layers and ReLUs, then I suppose this gives us an idea of the number of different orthants in which the data lies? This is a discrete number and behaviour (i.e. gradients) in each will be identical regardless of where you are in the orthant? Fits in with the piecewise picture too in this same way. Would be cool to prove/disprove this.\n",
    "- This makes analysis much easier because \"clustering\" of components can be done by simply finding the unique gradients.\n",
    "- It's nice to see that the resulting gradient components are very orthogonal across tasks.\n",
    "- Plotting with the norm of the gradient component shows that the non-orthogonal components are always low importance as we'd hope.\n",
    "- There are some really cool structural similarities between the norms of the gradients and the variances sometimes but maybe this would be expected from the fact that the data is input to both calculations.\n",
    "- I suppose we could be seeing a bit of a return to the idea of modes given that some trained networks have far fewer unique gradients than others.\n",
    "- **There are always the same number of unique gradients for task A as task B** (check this) - understand this. Perhaps it's because both go through the same layer afterwards?\n",
    "- **There are often more unique components than there are dimensions - suggesting superposition?**\n",
    "- The fact that we have this gradient splitting between different examples means the picture isn't as clear as simply picking out component and saying: this component is always used solely for e.g. task A because it could be that with combinations of input values it is used for task B. However, empirically, we can observe that the components are rarely very expressive at all across different tasks.\n",
    "- How does the number of different components change with layer depth? Perhaps backpropagating to the input will break up the gradient into more distinct values. Intuitively, I'd imagine that the repulsion from solutions that involve destructive interference between tasks means that the number of gradient components is somewhat tied to the dimensionality of each layer.  \n",
    "\n",
    "## Plan\n",
    "\n",
    "- Devise mathematical notation to properly label all these quantities I've been plotting\n",
    "- Apply same analysis across:\n",
    "    - the other layers\n",
    "    - more model repeats\n",
    "- Think about how I can represent these as computational graphs to demonstrate orthogonal task computation\n",
    "- Think about how I'm going to find components of interest in the wild (when I don't have the outputs to backpropagate from)\n",
    "- Think about how I'd approach entity classification/embedding\n",
    "\n",
    "## Thoughts about potential future in the wild structure discovery\n",
    "\n",
    "- We surely only really care about the outputs as in: what algorithm is used to compute the outputs? Therefore, maybe **we could _always_ backpropagate from the outputs** (which is always going to be in a privileged basis)? For example, with an LM, the model can only \"behave\" in a certain way in so far as it outputs certain words in sequence. Therefore, this gives us a natural end-point from which to backpropagate. What I'm imagining is, with the help of a very varied dataset (ideally all the examples the model has ever seen?), building a computation graph for _every single_ possible output word. This would represent all of the ways that word can be generated. Provided our dataset has a very large number of contexts for the word being studied then we should stand a chance of finding all of the possible routes that would result in its generation. One could do a study on a token that has a very tightly defined context (e.g. punctuation) and we'd hope that its computational graph might be quite small/simple? I'm getting _very_ ahead of myself here but it's useful to write this stuff down.\n",
    "- I also had the idea to create a very simple toy task where I deliberately **manufacture the problem to involve two (non-commutative) sub operatations** e.g. $y = x_1x_2 + x_3x_4$ which should consist of two multiplications and an addition, where the addition (should?) have to come after the multiplication. I can probably think of a neater example. This would have a single output but would be a great test of whether I can pull apart independent tasks _without_ the advantage of having a privileged basis to back propagate from.\n",
    "\n",
    "## Thoughts about computation graph structure\n",
    "\n",
    "- backprop 1 layer at a time starting from output layer\n",
    "- at each layer use unique gradients as privileged basis for backprop to next layer\n",
    "- edge weights represent the gradient norms inbound into a node\n",
    "- to produce edge weights between between gradients calculated from different downstream nodes (if that makes any sense...) we need an analagous process to backprop:\n",
    "    - could project the gradients from each node onto the gradients for the other node and then sum to find some total strength? Anything that affects the other node should be present in its gradients?\n",
    "    - perturb your input with the other node's gradients and see how it affects the node in question. Then calculate $\\frac{Δactivation}{Δinput}$ as one would do for gradients with backpropagation.\n",
    "- if the current trend continues, I think it's likely we'd see two subgraphs emerging, one for each task\n",
    "- we could, if we wanted to, label each node with a task activation (from our task-separated dataset), but I get the feeling that the graph with edge weights is closer to where we want to end up anyway (without the help of this artificial task dataset)\n",
    "- this graph could apply across a single example or aggregated across a whole dataset. One could plot the graph for the whole dataset but it isn't as if that whole sub graph will be activated for every example."
   ]
  }
 ],
 "metadata": {
  "kernelspec": {
   "display_name": "physics-mi",
   "language": "python",
   "name": "python3"
  },
  "language_info": {
   "codemirror_mode": {
    "name": "ipython",
    "version": 3
   },
   "file_extension": ".py",
   "mimetype": "text/x-python",
   "name": "python",
   "nbconvert_exporter": "python",
   "pygments_lexer": "ipython3",
   "version": "3.9.16"
  },
  "orig_nbformat": 4
 },
 "nbformat": 4,
 "nbformat_minor": 2
}
