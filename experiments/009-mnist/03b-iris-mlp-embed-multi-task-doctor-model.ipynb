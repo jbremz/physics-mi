{
 "cells": [
  {
   "cell_type": "markdown",
   "metadata": {},
   "source": [
    "# Iris MLP - multi-task - doctor model\n",
    "\n",
    "Now studying the patient model."
   ]
  },
  {
   "cell_type": "markdown",
   "metadata": {},
   "source": [
    "## Setup"
   ]
  },
  {
   "cell_type": "code",
   "execution_count": 1,
   "metadata": {},
   "outputs": [],
   "source": [
    "%reload_ext autoreload\n",
    "%autoreload 2"
   ]
  },
  {
   "cell_type": "code",
   "execution_count": 2,
   "metadata": {},
   "outputs": [],
   "source": [
    "import numpy as np\n",
    "import pandas as pd\n",
    "import torch\n",
    "from physics_mi.eval import plot_loss\n",
    "from torch import nn\n",
    "from tqdm.notebook import tqdm"
   ]
  },
  {
   "cell_type": "code",
   "execution_count": 3,
   "metadata": {},
   "outputs": [],
   "source": [
    "class config:\n",
    "    EPOCHS = 200\n",
    "    LR = 1e-1\n",
    "\n",
    "    N_SAMPLES = 30\n",
    "    BOTTLE_DIM = 16"
   ]
  },
  {
   "cell_type": "markdown",
   "metadata": {},
   "source": [
    "## Patient Model Data"
   ]
  },
  {
   "cell_type": "code",
   "execution_count": 4,
   "metadata": {},
   "outputs": [
    {
     "data": {
      "text/plain": [
       "(torch.Size([120, 4]),\n",
       " torch.Size([120]),\n",
       " torch.Size([30, 4]),\n",
       " torch.Size([30]))"
      ]
     },
     "execution_count": 4,
     "metadata": {},
     "output_type": "execute_result"
    }
   ],
   "source": [
    "from sklearn import datasets\n",
    "from sklearn.model_selection import train_test_split\n",
    "from sklearn.preprocessing import StandardScaler\n",
    "\n",
    "# Load the Iris dataset from sklearn\n",
    "iris = datasets.load_iris()\n",
    "X = iris.data\n",
    "y = iris.target\n",
    "\n",
    "# Split the data into training and testing sets\n",
    "X_train, X_test, y_train, y_test = train_test_split(X, y, test_size=0.2, random_state=42)\n",
    "\n",
    "# Standardize the features\n",
    "sc = StandardScaler()\n",
    "X_train = sc.fit_transform(X_train)\n",
    "X_test = sc.transform(X_test)\n",
    "\n",
    "# Convert the data to PyTorch tensors\n",
    "X_train = torch.tensor(X_train, dtype=torch.float32)\n",
    "X_valid = torch.tensor(X_test, dtype=torch.float32)\n",
    "y_train = torch.tensor(y_train, dtype=torch.int64)\n",
    "y_valid = torch.tensor(y_test, dtype=torch.int64)\n",
    "\n",
    "X_train.shape, y_train.shape, X_valid.shape, y_valid.shape"
   ]
  },
  {
   "cell_type": "markdown",
   "metadata": {},
   "source": [
    "Now to create the stacked datasets:"
   ]
  },
  {
   "cell_type": "code",
   "execution_count": 5,
   "metadata": {},
   "outputs": [],
   "source": [
    "from torch.utils.data import Dataset, DataLoader\n",
    "\n",
    "\n",
    "class MultiIris(Dataset):\n",
    "    def __init__(self, X, y):\n",
    "        shuffled_indices = torch.randperm(len(X))\n",
    "        self.X = torch.cat((X, X[shuffled_indices]), dim=1)\n",
    "        self.y = torch.stack((y, y[shuffled_indices])).T\n",
    "\n",
    "    def __len__(self):\n",
    "        return len(self.y)\n",
    "\n",
    "    def __getitem__(self, idx):\n",
    "        return self.X[idx], self.y[idx]"
   ]
  },
  {
   "cell_type": "markdown",
   "metadata": {},
   "source": [
    "## Embedding network"
   ]
  },
  {
   "cell_type": "markdown",
   "metadata": {},
   "source": [
    "Just going to look at this single hidden layer. I think there should be three target components for each independent task and I'd _hope_ to see similar functional embeddings between them.\n",
    "\n",
    "This node dataframe contains all the nodes across two different layers."
   ]
  },
  {
   "cell_type": "code",
   "execution_count": 6,
   "metadata": {},
   "outputs": [],
   "source": [
    "from physics_mi.analysis import capture_intermediate_outputs\n",
    "from physics_mi.graph import generate_graph\n",
    "from physics_mi.analysis import plot_similarity_matrix, get_sims"
   ]
  },
  {
   "cell_type": "code",
   "execution_count": 7,
   "metadata": {},
   "outputs": [],
   "source": [
    "from iris_basics import model as iris_model, Net\n",
    "\n",
    "iris_model.load_state_dict(torch.load(\"models/iris-mlp.pth\"))  # load the entire model weights\n",
    "iris_layer = iris_model.layers[1]  # just the layer we're going to examine\n",
    "_ = iris_layer.requires_grad_(True)"
   ]
  },
  {
   "cell_type": "code",
   "execution_count": 8,
   "metadata": {},
   "outputs": [],
   "source": [
    "iris_dset = MultiIris(X_train, y_train)\n",
    "iris_dl = DataLoader(iris_dset, batch_size=len(iris_dset), shuffle=True)\n",
    "xb = next(iter(iris_dl))[0]\n",
    "ios = capture_intermediate_outputs(iris_model, xb)\n",
    "ios[\"input\"] = xb"
   ]
  },
  {
   "cell_type": "code",
   "execution_count": 9,
   "metadata": {},
   "outputs": [
    {
     "data": {
      "text/plain": [
       "<All keys matched successfully>"
      ]
     },
     "execution_count": 9,
     "metadata": {},
     "output_type": "execute_result"
    }
   ],
   "source": [
    "class ScaffoldNet(Net):\n",
    "    def __init__(self, *args, **kwargs) -> None:\n",
    "        super().__init__(*args, **kwargs)\n",
    "        self.requires_grad_(False)\n",
    "\n",
    "    def forward(self, lidx, linputs):\n",
    "        sub_net = self.layers[1:][lidx : lidx + 1]\n",
    "        out = sub_net(linputs)\n",
    "        return out\n",
    "\n",
    "\n",
    "class ScaffoldLayer(nn.Module):\n",
    "    def __init__(self, layer, components) -> None:\n",
    "        super().__init__()\n",
    "        self.layer = layer\n",
    "        self.components = components\n",
    "\n",
    "    def forward(self, x):\n",
    "        out = self.layer(x)\n",
    "        out = torch.einsum(\"bi,ji->bj\", out, self.components)\n",
    "        return out\n",
    "\n",
    "\n",
    "scaffold_model = ScaffoldNet(input_dim=8, hidden_dim=64, output_dim=2 * y_train.unique().shape[0])\n",
    "scaffold_model.load_state_dict(iris_model.state_dict())"
   ]
  },
  {
   "cell_type": "code",
   "execution_count": 10,
   "metadata": {},
   "outputs": [],
   "source": [
    "layer_keys = [\n",
    "    \"layers.0.act\",\n",
    "    \"layers.1.act\",\n",
    "    \"layers.2.linear.bias\",\n",
    "]  # these are where from we would like to extract the components"
   ]
  },
  {
   "cell_type": "code",
   "execution_count": 11,
   "metadata": {},
   "outputs": [
    {
     "data": {
      "application/vnd.jupyter.widget-view+json": {
       "model_id": "b2d4ee7463304357b301cb64d32b6e8c",
       "version_major": 2,
       "version_minor": 0
      },
      "text/plain": [
       "  0%|          | 0/2 [00:00<?, ?it/s]"
      ]
     },
     "metadata": {},
     "output_type": "display_data"
    },
    {
     "data": {
      "application/vnd.jupyter.widget-view+json": {
       "model_id": "61916fd272f84bee8c43b1553c4fcdc2",
       "version_major": 2,
       "version_minor": 0
      },
      "text/plain": [
       "0it [00:00, ?it/s]"
      ]
     },
     "metadata": {},
     "output_type": "display_data"
    },
    {
     "data": {
      "application/vnd.jupyter.widget-view+json": {
       "model_id": "7b2018f812af4382be7388a6aa4d9222",
       "version_major": 2,
       "version_minor": 0
      },
      "text/plain": [
       "0it [00:00, ?it/s]"
      ]
     },
     "metadata": {},
     "output_type": "display_data"
    }
   ],
   "source": [
    "ndf, edf = generate_graph(ios, layer_keys, scaffold_model)"
   ]
  },
  {
   "cell_type": "code",
   "execution_count": 12,
   "metadata": {},
   "outputs": [
    {
     "data": {
      "text/html": [
       "<div>\n",
       "<style scoped>\n",
       "    .dataframe tbody tr th:only-of-type {\n",
       "        vertical-align: middle;\n",
       "    }\n",
       "\n",
       "    .dataframe tbody tr th {\n",
       "        vertical-align: top;\n",
       "    }\n",
       "\n",
       "    .dataframe thead th {\n",
       "        text-align: right;\n",
       "    }\n",
       "</style>\n",
       "<table border=\"1\" class=\"dataframe\">\n",
       "  <thead>\n",
       "    <tr style=\"text-align: right;\">\n",
       "      <th></th>\n",
       "      <th>layer</th>\n",
       "      <th>comp</th>\n",
       "      <th>norm</th>\n",
       "    </tr>\n",
       "    <tr>\n",
       "      <th>node</th>\n",
       "      <th></th>\n",
       "      <th></th>\n",
       "      <th></th>\n",
       "    </tr>\n",
       "  </thead>\n",
       "  <tbody>\n",
       "    <tr>\n",
       "      <th>6</th>\n",
       "      <td>layers.1.act</td>\n",
       "      <td>[tensor(0.0014), tensor(-0.0007), tensor(0.001...</td>\n",
       "      <td>0.011708</td>\n",
       "    </tr>\n",
       "    <tr>\n",
       "      <th>7</th>\n",
       "      <td>layers.1.act</td>\n",
       "      <td>[tensor(0.0019), tensor(-0.0010), tensor(-0.00...</td>\n",
       "      <td>0.011567</td>\n",
       "    </tr>\n",
       "    <tr>\n",
       "      <th>8</th>\n",
       "      <td>layers.1.act</td>\n",
       "      <td>[tensor(-0.0029), tensor(0.0014), tensor(-0.00...</td>\n",
       "      <td>0.013751</td>\n",
       "    </tr>\n",
       "    <tr>\n",
       "      <th>9</th>\n",
       "      <td>layers.1.act</td>\n",
       "      <td>[tensor(0.0005), tensor(-0.0020), tensor(0.001...</td>\n",
       "      <td>0.011946</td>\n",
       "    </tr>\n",
       "    <tr>\n",
       "      <th>10</th>\n",
       "      <td>layers.1.act</td>\n",
       "      <td>[tensor(0.0007), tensor(0.0006), tensor(0.0010...</td>\n",
       "      <td>0.011326</td>\n",
       "    </tr>\n",
       "    <tr>\n",
       "      <th>...</th>\n",
       "      <td>...</td>\n",
       "      <td>...</td>\n",
       "      <td>...</td>\n",
       "    </tr>\n",
       "    <tr>\n",
       "      <th>649</th>\n",
       "      <td>layers.0.act</td>\n",
       "      <td>[tensor(0.0018), tensor(-0.0007), tensor(-0.00...</td>\n",
       "      <td>0.012423</td>\n",
       "    </tr>\n",
       "    <tr>\n",
       "      <th>650</th>\n",
       "      <td>layers.0.act</td>\n",
       "      <td>[tensor(0.0014), tensor(-0.0009), tensor(-0.00...</td>\n",
       "      <td>0.010864</td>\n",
       "    </tr>\n",
       "    <tr>\n",
       "      <th>651</th>\n",
       "      <td>layers.0.act</td>\n",
       "      <td>[tensor(0.0013), tensor(-0.0011), tensor(-0.00...</td>\n",
       "      <td>0.010632</td>\n",
       "    </tr>\n",
       "    <tr>\n",
       "      <th>652</th>\n",
       "      <td>layers.0.act</td>\n",
       "      <td>[tensor(0.0020), tensor(-0.0006), tensor(-0.00...</td>\n",
       "      <td>0.012883</td>\n",
       "    </tr>\n",
       "    <tr>\n",
       "      <th>653</th>\n",
       "      <td>layers.0.act</td>\n",
       "      <td>[tensor(0.0027), tensor(-0.0010), tensor(-0.00...</td>\n",
       "      <td>0.016695</td>\n",
       "    </tr>\n",
       "  </tbody>\n",
       "</table>\n",
       "<p>648 rows × 3 columns</p>\n",
       "</div>"
      ],
      "text/plain": [
       "             layer                                               comp  \\\n",
       "node                                                                    \n",
       "6     layers.1.act  [tensor(0.0014), tensor(-0.0007), tensor(0.001...   \n",
       "7     layers.1.act  [tensor(0.0019), tensor(-0.0010), tensor(-0.00...   \n",
       "8     layers.1.act  [tensor(-0.0029), tensor(0.0014), tensor(-0.00...   \n",
       "9     layers.1.act  [tensor(0.0005), tensor(-0.0020), tensor(0.001...   \n",
       "10    layers.1.act  [tensor(0.0007), tensor(0.0006), tensor(0.0010...   \n",
       "...            ...                                                ...   \n",
       "649   layers.0.act  [tensor(0.0018), tensor(-0.0007), tensor(-0.00...   \n",
       "650   layers.0.act  [tensor(0.0014), tensor(-0.0009), tensor(-0.00...   \n",
       "651   layers.0.act  [tensor(0.0013), tensor(-0.0011), tensor(-0.00...   \n",
       "652   layers.0.act  [tensor(0.0020), tensor(-0.0006), tensor(-0.00...   \n",
       "653   layers.0.act  [tensor(0.0027), tensor(-0.0010), tensor(-0.00...   \n",
       "\n",
       "          norm  \n",
       "node            \n",
       "6     0.011708  \n",
       "7     0.011567  \n",
       "8     0.013751  \n",
       "9     0.011946  \n",
       "10    0.011326  \n",
       "...        ...  \n",
       "649   0.012423  \n",
       "650   0.010864  \n",
       "651   0.010632  \n",
       "652   0.012883  \n",
       "653   0.016695  \n",
       "\n",
       "[648 rows x 3 columns]"
      ]
     },
     "execution_count": 12,
     "metadata": {},
     "output_type": "execute_result"
    }
   ],
   "source": [
    "node_df = ndf.loc[ndf[\"layer\"].isin([\"layers.1.act\", \"layers.0.act\"])]\n",
    "node_df"
   ]
  },
  {
   "cell_type": "markdown",
   "metadata": {},
   "source": [
    "This edge dataframe contains the connectivity information between the components across this layer."
   ]
  },
  {
   "cell_type": "code",
   "execution_count": 13,
   "metadata": {},
   "outputs": [
    {
     "data": {
      "text/html": [
       "<div>\n",
       "<style scoped>\n",
       "    .dataframe tbody tr th:only-of-type {\n",
       "        vertical-align: middle;\n",
       "    }\n",
       "\n",
       "    .dataframe tbody tr th {\n",
       "        vertical-align: top;\n",
       "    }\n",
       "\n",
       "    .dataframe thead th {\n",
       "        text-align: right;\n",
       "    }\n",
       "</style>\n",
       "<table border=\"1\" class=\"dataframe\">\n",
       "  <thead>\n",
       "    <tr style=\"text-align: right;\">\n",
       "      <th></th>\n",
       "      <th>source</th>\n",
       "      <th>target</th>\n",
       "      <th>weight</th>\n",
       "    </tr>\n",
       "  </thead>\n",
       "  <tbody>\n",
       "    <tr>\n",
       "      <th>6</th>\n",
       "      <td>12</td>\n",
       "      <td>6</td>\n",
       "      <td>0.010336</td>\n",
       "    </tr>\n",
       "    <tr>\n",
       "      <th>7</th>\n",
       "      <td>13</td>\n",
       "      <td>6</td>\n",
       "      <td>0.010489</td>\n",
       "    </tr>\n",
       "    <tr>\n",
       "      <th>8</th>\n",
       "      <td>14</td>\n",
       "      <td>6</td>\n",
       "      <td>0.010955</td>\n",
       "    </tr>\n",
       "    <tr>\n",
       "      <th>9</th>\n",
       "      <td>15</td>\n",
       "      <td>6</td>\n",
       "      <td>0.011758</td>\n",
       "    </tr>\n",
       "    <tr>\n",
       "      <th>10</th>\n",
       "      <td>16</td>\n",
       "      <td>6</td>\n",
       "      <td>0.011695</td>\n",
       "    </tr>\n",
       "    <tr>\n",
       "      <th>...</th>\n",
       "      <td>...</td>\n",
       "      <td>...</td>\n",
       "      <td>...</td>\n",
       "    </tr>\n",
       "    <tr>\n",
       "      <th>643</th>\n",
       "      <td>649</td>\n",
       "      <td>11</td>\n",
       "      <td>0.012423</td>\n",
       "    </tr>\n",
       "    <tr>\n",
       "      <th>644</th>\n",
       "      <td>650</td>\n",
       "      <td>11</td>\n",
       "      <td>0.010864</td>\n",
       "    </tr>\n",
       "    <tr>\n",
       "      <th>645</th>\n",
       "      <td>651</td>\n",
       "      <td>11</td>\n",
       "      <td>0.010632</td>\n",
       "    </tr>\n",
       "    <tr>\n",
       "      <th>646</th>\n",
       "      <td>652</td>\n",
       "      <td>11</td>\n",
       "      <td>0.012883</td>\n",
       "    </tr>\n",
       "    <tr>\n",
       "      <th>647</th>\n",
       "      <td>653</td>\n",
       "      <td>11</td>\n",
       "      <td>0.016695</td>\n",
       "    </tr>\n",
       "  </tbody>\n",
       "</table>\n",
       "<p>642 rows × 3 columns</p>\n",
       "</div>"
      ],
      "text/plain": [
       "     source  target    weight\n",
       "6        12       6  0.010336\n",
       "7        13       6  0.010489\n",
       "8        14       6  0.010955\n",
       "9        15       6  0.011758\n",
       "10       16       6  0.011695\n",
       "..      ...     ...       ...\n",
       "643     649      11  0.012423\n",
       "644     650      11  0.010864\n",
       "645     651      11  0.010632\n",
       "646     652      11  0.012883\n",
       "647     653      11  0.016695\n",
       "\n",
       "[642 rows x 3 columns]"
      ]
     },
     "execution_count": 13,
     "metadata": {},
     "output_type": "execute_result"
    }
   ],
   "source": [
    "edge_df = edf.loc[edf[\"target\"].isin(node_df.loc[node_df.layer == \"layers.1.act\"].index)]\n",
    "edge_df"
   ]
  },
  {
   "cell_type": "markdown",
   "metadata": {},
   "source": [
    "I think this is enough info to get going with the complicated task of arranging the data to train our embedder model 😵‍💫\n",
    "\n",
    "We'll essentially need to:\n",
    "- load up our scaffold model and then slice it to this layer of interest (`layers.0.act` $\\rightarrow$ `layers.1.act`)\n",
    "- Then for each training sample we'd pick one of the six components in `layers.1.act`\n",
    "- pick $n$ training examples to sample the gradient field\n",
    "- forward pass\n",
    "- backward pass\n",
    "- extract gradients\n",
    "- mask gradients\n",
    "\n",
    "Then we can use these for our cloze task to train the embedder model.\n",
    "\n",
    "There are only 6 computational units in this case so I wonder if there'll be enough diversity to train the model well. Then again, we can sample the gradient field differently each time so maybe that would balance out. Whereas before we were only sparse sampling the computational unit space and a dense sampling the gradient field space, here we're dense sampling the computational unit space and sparse sampling the gradient field space. We'll see how that plays out 🤷 "
   ]
  },
  {
   "cell_type": "code",
   "execution_count": 14,
   "metadata": {},
   "outputs": [
    {
     "data": {
      "text/plain": [
       "torch.Size([6, 64])"
      ]
     },
     "execution_count": 14,
     "metadata": {},
     "output_type": "execute_result"
    }
   ],
   "source": [
    "components = torch.stack(node_df.loc[node_df.layer == \"layers.1.act\", \"comp\"].tolist())\n",
    "components = components / components.norm(dim=1).unsqueeze(1)\n",
    "components.requires_grad_(True)\n",
    "components.shape"
   ]
  },
  {
   "cell_type": "code",
   "execution_count": 15,
   "metadata": {},
   "outputs": [],
   "source": [
    "scaffold_layer = ScaffoldLayer(iris_layer, components)"
   ]
  },
  {
   "cell_type": "markdown",
   "metadata": {},
   "source": [
    "### Data"
   ]
  },
  {
   "cell_type": "code",
   "execution_count": 67,
   "metadata": {},
   "outputs": [],
   "source": [
    "from physics_mi.utils import unique\n",
    "\n",
    "\n",
    "class GradientDataset(Dataset):\n",
    "    def __init__(\n",
    "        self,\n",
    "        patient_model: Net,\n",
    "        scaffold_layer: ScaffoldLayer,\n",
    "        X: torch.Tensor,\n",
    "        y: torch.Tensor,\n",
    "        mask: bool = True,\n",
    "        n_samples: int = 50,\n",
    "    ) -> None:\n",
    "        self.mask = mask\n",
    "        self.patient_model = patient_model\n",
    "        self.scaffold_layer = scaffold_layer\n",
    "        self.scaffold_layer.eval()\n",
    "        for param in self.scaffold_layer.parameters():\n",
    "            param.requires_grad = False\n",
    "        self.n_samples = n_samples\n",
    "        self.X = X\n",
    "        self.y = y\n",
    "\n",
    "    def __len__(self) -> int:\n",
    "        return len(self.X)\n",
    "\n",
    "    def mask_grads(self, input_grads):\n",
    "        \"\"\"\n",
    "        Masks a portion of the input gradients.\n",
    "\n",
    "        Args:\n",
    "            input_grads (torch.Tensor): The input gradients to be masked.\n",
    "\n",
    "        Returns:\n",
    "            torch.Tensor: The masked gradients, where a portion of the gradients are set to -1.\n",
    "\n",
    "        \"\"\"\n",
    "        uq_grads, _, _, index = unique(input_grads)\n",
    "        uq_grads = uq_grads[torch.argsort(index)]\n",
    "        n_grads = len(uq_grads)\n",
    "        window_size = int(n_grads // 3)\n",
    "        window_start = np.random.randint(0, n_grads - window_size)\n",
    "        mask_grads = uq_grads[window_start : window_start + window_size]\n",
    "        mask = torch.isin(input_grads, mask_grads)\n",
    "        masked = input_grads.clone()\n",
    "        masked[mask] = -1\n",
    "        return masked\n",
    "\n",
    "    def __getitem__(self, i):\n",
    "        # Get the input to the layer\n",
    "        iris_dset = MultiIris(self.X, self.y)\n",
    "        iris_dl = DataLoader(iris_dset, batch_size=len(iris_dset), shuffle=True)\n",
    "        xb, _ = next(iter(iris_dl))\n",
    "        linput = capture_intermediate_outputs(self.patient_model, xb)[\"layers.0.act\"].clone().detach()\n",
    "        linput = linput[torch.multinomial(torch.ones(linput.size(0)), self.n_samples)]\n",
    "        linput.requires_grad = True\n",
    "\n",
    "        # Get the component activations from the output of the layer\n",
    "        out = self.scaffold_layer(linput)\n",
    "\n",
    "        # Get the layer input gradients for a randomly selected component (computational unit)\n",
    "        study_comp = torch.randint(0, out.shape[1], (1,))\n",
    "        out = out[:, study_comp]\n",
    "        loss = out.mean()\n",
    "        loss.backward()\n",
    "        input_grads = linput.grad.clone().detach()\n",
    "\n",
    "        # Mask the gradients\n",
    "        if self.mask:\n",
    "            x = self.mask_grads(input_grads)\n",
    "        else:\n",
    "            x = input_grads\n",
    "        x = torch.stack([linput, x], dim=2)  # need to stack with inputs so the model knows where to look\n",
    "        y = input_grads.view(-1)  # TODO potentially mask out the y values too in order to focus the loss\n",
    "        x = x.view(-1)\n",
    "        x = x.detach()\n",
    "        y = y.detach()\n",
    "        return x, y"
   ]
  },
  {
   "cell_type": "code",
   "execution_count": 88,
   "metadata": {},
   "outputs": [
    {
     "data": {
      "text/plain": [
       "(torch.Size([120, 3840]), torch.Size([120, 1920]))"
      ]
     },
     "execution_count": 88,
     "metadata": {},
     "output_type": "execute_result"
    }
   ],
   "source": [
    "g_train_dset = GradientDataset(iris_model, scaffold_layer, mask=True, n_samples=config.N_SAMPLES, X=X_train, y=y_train)\n",
    "g_valid_dset = GradientDataset(iris_model, scaffold_layer, mask=True, n_samples=config.N_SAMPLES, X=X_valid, y=y_valid)\n",
    "g_eval_dset = GradientDataset(iris_model, scaffold_layer, mask=False, n_samples=config.N_SAMPLES, X=X_valid, y=y_valid)\n",
    "\n",
    "g_train_dl = DataLoader(g_train_dset, batch_size=len(g_train_dset), shuffle=True)\n",
    "g_valid_dl = DataLoader(g_valid_dset, batch_size=len(g_valid_dset), shuffle=False)\n",
    "g_eval_dl = DataLoader(g_eval_dset, batch_size=len(g_eval_dset), shuffle=False)\n",
    "\n",
    "xb, yb = next(iter(g_train_dl))\n",
    "xb.shape, yb.shape"
   ]
  },
  {
   "cell_type": "markdown",
   "metadata": {},
   "source": [
    "### Model"
   ]
  },
  {
   "cell_type": "code",
   "execution_count": 76,
   "metadata": {},
   "outputs": [],
   "source": [
    "from physics_mi.net import LinearLayer\n",
    "\n",
    "\n",
    "class GradNet(nn.Module):\n",
    "    def __init__(\n",
    "        self, input_dim=4, hidden_dim=16, bottle_dim=4, output_dim=2, embedding_mode=False, *args, **kwargs\n",
    "    ) -> None:\n",
    "        super().__init__(*args, **kwargs)\n",
    "        self.down_layers = nn.Sequential(\n",
    "            LinearLayer(input_dim, hidden_dim, use_act=True),\n",
    "            LinearLayer(hidden_dim, bottle_dim, use_act=True),\n",
    "        )\n",
    "        self.up_layers = LinearLayer(bottle_dim, output_dim, use_act=True)\n",
    "        self.output_layer = LinearLayer(output_dim, output_dim, use_act=False)\n",
    "        self.embedding_mode = embedding_mode\n",
    "\n",
    "    def forward(self, x):\n",
    "        out = self.down_layers(x)\n",
    "        if self.embedding_mode:\n",
    "            return out\n",
    "        out = self.up_layers(out)\n",
    "        out = out + x.view(len(x), -1, 2)[:, :, 1]  # residual connection\n",
    "        return self.output_layer(out)"
   ]
  },
  {
   "cell_type": "markdown",
   "metadata": {},
   "source": [
    "### Train"
   ]
  },
  {
   "cell_type": "code",
   "execution_count": 77,
   "metadata": {},
   "outputs": [
    {
     "data": {
      "text/plain": [
       "torch.Size([120, 1920])"
      ]
     },
     "execution_count": 77,
     "metadata": {},
     "output_type": "execute_result"
    }
   ],
   "source": [
    "yb.shape"
   ]
  },
  {
   "cell_type": "code",
   "execution_count": 78,
   "metadata": {},
   "outputs": [
    {
     "data": {
      "application/vnd.jupyter.widget-view+json": {
       "model_id": "0ab618fe8b2145e898b4e6ecc20ad6cc",
       "version_major": 2,
       "version_minor": 0
      },
      "text/plain": [
       "  0%|          | 0/200 [00:00<?, ?it/s]"
      ]
     },
     "metadata": {},
     "output_type": "display_data"
    }
   ],
   "source": [
    "from torch.optim.lr_scheduler import OneCycleLR\n",
    "from torch.optim import Adam\n",
    "\n",
    "\n",
    "gmodel = GradNet(input_dim=xb.shape[1], hidden_dim=128, bottle_dim=config.BOTTLE_DIM, output_dim=yb.shape[1])\n",
    "optimiser = Adam(gmodel.parameters(), lr=1e-3)\n",
    "loss_func = nn.MSELoss()\n",
    "total_steps = len(g_train_dl) * config.EPOCHS\n",
    "scheduler = OneCycleLR(optimiser, max_lr=1e-3, total_steps=total_steps)\n",
    "\n",
    "log = []\n",
    "\n",
    "for epoch in tqdm(range(config.EPOCHS)):\n",
    "    log_sample = {}\n",
    "\n",
    "    gmodel.train()\n",
    "    for xb, yb in g_train_dl:\n",
    "        y_hat = gmodel(xb)\n",
    "        loss = loss_func(y_hat, yb)\n",
    "        loss.backward()\n",
    "        optimiser.step()\n",
    "        optimiser.zero_grad()\n",
    "        scheduler.step()\n",
    "\n",
    "    gmodel.eval()\n",
    "    valid_loss = 0\n",
    "    for xb, yb in g_valid_dl:\n",
    "        with torch.no_grad():\n",
    "            y_hat = gmodel(xb)\n",
    "            # mask = xb.view(len(xb), -1, 2)[:, :, 1] == -1\n",
    "            # valid_loss += nn.MSELoss()(y_hat[mask], yb[mask])\n",
    "            valid_loss += nn.MSELoss()(y_hat, yb)\n",
    "\n",
    "    log_sample[\"valid_loss\"] = float(valid_loss / len(g_valid_dl))\n",
    "    log_sample[\"train_loss\"] = float(loss)\n",
    "    log.append(log_sample)\n",
    "\n",
    "log = pd.DataFrame(log)"
   ]
  },
  {
   "cell_type": "code",
   "execution_count": 79,
   "metadata": {},
   "outputs": [
    {
     "data": {
      "image/png": "[encoded data removed]",
      "text/plain": [
       "<Figure size 640x480 with 1 Axes>"
      ]
     },
     "metadata": {},
     "output_type": "display_data"
    }
   ],
   "source": [
    "plot_loss(log[\"train_loss\"], log[\"valid_loss\"])"
   ]
  },
  {
   "cell_type": "code",
   "execution_count": 80,
   "metadata": {},
   "outputs": [],
   "source": [
    "def get_preds(model, valid_dl):\n",
    "    model.eval()\n",
    "\n",
    "    X = []\n",
    "    y_preds = []\n",
    "    y_targs = []\n",
    "\n",
    "    for xb, yb in valid_dl:\n",
    "        with torch.inference_mode():\n",
    "            out = model(xb)\n",
    "        X.append(xb.view(len(xb), -1, 2)[:, :, 1])\n",
    "        y_preds.append(out)\n",
    "        y_targs.append(yb)\n",
    "\n",
    "    X = torch.cat(X).numpy()\n",
    "    y_preds = torch.cat(y_preds).numpy()\n",
    "    y_targs = torch.cat(y_targs).numpy()\n",
    "\n",
    "    return y_preds, y_targs, X"
   ]
  },
  {
   "cell_type": "code",
   "execution_count": 91,
   "metadata": {},
   "outputs": [],
   "source": [
    "# torch.save(gmodel.state_dict(), \"models/iris-gradnet.pth\")"
   ]
  },
  {
   "cell_type": "markdown",
   "metadata": {},
   "source": [
    "### Examine embeddings"
   ]
  },
  {
   "cell_type": "code",
   "execution_count": null,
   "metadata": {},
   "outputs": [],
   "source": []
  },
  {
   "cell_type": "code",
   "execution_count": null,
   "metadata": {},
   "outputs": [],
   "source": []
  },
  {
   "cell_type": "code",
   "execution_count": null,
   "metadata": {},
   "outputs": [],
   "source": []
  },
  {
   "cell_type": "code",
   "execution_count": null,
   "metadata": {},
   "outputs": [],
   "source": []
  },
  {
   "cell_type": "code",
   "execution_count": null,
   "metadata": {},
   "outputs": [],
   "source": []
  },
  {
   "cell_type": "code",
   "execution_count": null,
   "metadata": {},
   "outputs": [],
   "source": []
  }
 ],
 "metadata": {
  "kernelspec": {
   "display_name": "physics-mi",
   "language": "python",
   "name": "python3"
  },
  "language_info": {
   "codemirror_mode": {
    "name": "ipython",
    "version": 3
   },
   "file_extension": ".py",
   "mimetype": "text/x-python",
   "name": "python",
   "nbconvert_exporter": "python",
   "pygments_lexer": "ipython3",
   "version": "3.9.16"
  }
 },
 "nbformat": 4,
 "nbformat_minor": 2
}
