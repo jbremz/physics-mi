{
 "cells": [
  {
   "cell_type": "markdown",
   "metadata": {},
   "source": [
    "# Function classifier"
   ]
  },
  {
   "cell_type": "markdown",
   "metadata": {},
   "source": [
    "## Setup"
   ]
  },
  {
   "cell_type": "code",
   "execution_count": 1,
   "metadata": {},
   "outputs": [],
   "source": [
    "%reload_ext autoreload\n",
    "%autoreload 2"
   ]
  },
  {
   "cell_type": "code",
   "execution_count": 2,
   "metadata": {},
   "outputs": [],
   "source": [
    "import numpy as np\n",
    "import matplotlib.pyplot as plt\n",
    "import torch\n",
    "from torch import nn\n",
    "from torch.utils.data import DataLoader, Dataset\n",
    "from torch.optim import Adam\n",
    "from tqdm.notebook import tqdm\n",
    "import pandas as pd\n",
    "\n",
    "from physics_mi.utils import set_all_seeds"
   ]
  },
  {
   "cell_type": "code",
   "execution_count": 3,
   "metadata": {},
   "outputs": [
    {
     "name": "stdout",
     "output_type": "stream",
     "text": [
      "202989386\n"
     ]
    }
   ],
   "source": [
    "seed = np.random.randint(1, 2**32 - 1)\n",
    "# seed = 3243091524  # this one is very interesting\n",
    "# pleasingly_symmetric_seed = 95433229\n",
    "set_all_seeds(seed)\n",
    "print(seed)"
   ]
  },
  {
   "cell_type": "code",
   "execution_count": 4,
   "metadata": {},
   "outputs": [],
   "source": [
    "class config:\n",
    "    MODEL_HIDDEN_DIM = 64\n",
    "\n",
    "    # Embedder model\n",
    "    N_SAMPLES = 32\n",
    "    EPOCHS = 200"
   ]
  },
  {
   "cell_type": "markdown",
   "metadata": {},
   "source": [
    "## Generals"
   ]
  },
  {
   "cell_type": "code",
   "execution_count": 5,
   "metadata": {},
   "outputs": [],
   "source": [
    "class LinearLayer(nn.Module):\n",
    "    def __init__(self, in_feats, out_feats, use_act=True, *args, **kwargs) -> None:\n",
    "        super().__init__(*args, **kwargs)\n",
    "        self.linear = nn.Linear(in_feats, out_feats)\n",
    "        if use_act:\n",
    "            self.act = nn.ReLU()\n",
    "        self.use_act = use_act\n",
    "\n",
    "    def forward(self, x):\n",
    "        x = self.linear(x)\n",
    "        if self.use_act:\n",
    "            x = self.act(x)\n",
    "        return x\n",
    "\n",
    "\n",
    "class Net(nn.Module):\n",
    "    def __init__(self, input_dim=4, hidden_dim=16, output_dim=2, *args, **kwargs) -> None:\n",
    "        super().__init__(*args, **kwargs)\n",
    "        self.layers = nn.Sequential(\n",
    "            LinearLayer(input_dim, hidden_dim, use_act=True),\n",
    "            LinearLayer(hidden_dim, hidden_dim, use_act=True),\n",
    "            LinearLayer(hidden_dim, output_dim, use_act=False),\n",
    "        )\n",
    "\n",
    "    def forward(self, x):\n",
    "        return self.layers(x)\n",
    "\n",
    "\n",
    "def generate_X(size):\n",
    "    return np.random.rand(size) * 2 - 1\n",
    "\n",
    "\n",
    "def get_model():\n",
    "    return Net(input_dim=1, hidden_dim=config.MODEL_HIDDEN_DIM, output_dim=1)"
   ]
  },
  {
   "cell_type": "markdown",
   "metadata": {},
   "source": [
    "## Data"
   ]
  },
  {
   "cell_type": "code",
   "execution_count": 6,
   "metadata": {},
   "outputs": [],
   "source": [
    "mdf = pd.read_pickle(\"models/fourier_models.pkl\")"
   ]
  },
  {
   "cell_type": "code",
   "execution_count": 7,
   "metadata": {},
   "outputs": [
    {
     "data": {
      "text/plain": [
       "func\n",
       "0    47\n",
       "1    50\n",
       "2    50\n",
       "3    46\n",
       "4    38\n",
       "5    50\n",
       "6    50\n",
       "7    45\n",
       "8    50\n",
       "9    49\n",
       "Name: func, dtype: int64"
      ]
     },
     "execution_count": 7,
     "metadata": {},
     "output_type": "execute_result"
    }
   ],
   "source": [
    "mdf = mdf.loc[mdf.valid_loss < 2.5].reset_index(drop=True)\n",
    "mdf.groupby(\"func\")[\"func\"].count()"
   ]
  },
  {
   "cell_type": "code",
   "execution_count": 93,
   "metadata": {},
   "outputs": [],
   "source": [
    "from physics_mi.utils import unique\n",
    "\n",
    "\n",
    "class GradientDataset(Dataset):\n",
    "    def __init__(self, df: pd.DataFrame, n_samples: int = 10):\n",
    "        self.df = df.reset_index(drop=True)\n",
    "        self.n_samples = n_samples\n",
    "\n",
    "    def __len__(self) -> int:\n",
    "        return len(self.df)\n",
    "\n",
    "    def __getitem__(self, i):\n",
    "        row = self.df.iloc[i]\n",
    "        model = get_model()\n",
    "        model.load_state_dict(row[\"model\"])\n",
    "        for param in model.parameters():\n",
    "            param.requires_grad = False\n",
    "        X = torch.as_tensor(generate_X(self.n_samples)).float()\n",
    "        X = torch.sort(X)[0][:, None]\n",
    "        X.requires_grad_(True)\n",
    "        out = model(X)\n",
    "        loss = out.mean()\n",
    "        loss.backward()\n",
    "        input_grads = X.grad.clone().detach()\n",
    "        x = torch.cat([X, input_grads], dim=1).flatten().detach()\n",
    "        y = torch.tensor(row[\"func\"])\n",
    "        return x, y"
   ]
  },
  {
   "cell_type": "code",
   "execution_count": 94,
   "metadata": {},
   "outputs": [
    {
     "data": {
      "text/plain": [
       "func  valid\n",
       "0     False    38\n",
       "      True      9\n",
       "1     False    40\n",
       "      True     10\n",
       "2     False    40\n",
       "      True     10\n",
       "3     False    37\n",
       "      True      9\n",
       "4     False    30\n",
       "      True      8\n",
       "5     False    40\n",
       "      True     10\n",
       "6     False    40\n",
       "      True     10\n",
       "7     False    36\n",
       "      True      9\n",
       "8     False    40\n",
       "      True     10\n",
       "9     False    39\n",
       "      True     10\n",
       "Name: count, dtype: int64"
      ]
     },
     "execution_count": 94,
     "metadata": {},
     "output_type": "execute_result"
    }
   ],
   "source": [
    "from sklearn.model_selection import train_test_split\n",
    "\n",
    "train_idxs, valid_idxs = train_test_split(mdf.index, test_size=0.2, stratify=mdf[\"func\"])\n",
    "mdf[\"valid\"] = False\n",
    "mdf.loc[valid_idxs, \"valid\"] = True\n",
    "\n",
    "mdf.groupby(\"func\")[\"valid\"].value_counts()"
   ]
  },
  {
   "cell_type": "code",
   "execution_count": 97,
   "metadata": {},
   "outputs": [
    {
     "data": {
      "text/plain": [
       "(380, 95)"
      ]
     },
     "execution_count": 97,
     "metadata": {},
     "output_type": "execute_result"
    }
   ],
   "source": [
    "train_ds = GradientDataset(mdf.loc[~mdf[\"valid\"]], n_samples=config.N_SAMPLES)\n",
    "valid_ds = GradientDataset(mdf.loc[mdf[\"valid\"]], n_samples=config.N_SAMPLES)\n",
    "\n",
    "len(train_ds), len(valid_ds)"
   ]
  },
  {
   "cell_type": "code",
   "execution_count": 98,
   "metadata": {},
   "outputs": [
    {
     "data": {
      "text/plain": [
       "(torch.Size([64, 64]), torch.Size([64]))"
      ]
     },
     "execution_count": 98,
     "metadata": {},
     "output_type": "execute_result"
    }
   ],
   "source": [
    "train_dl = DataLoader(train_ds, batch_size=64, shuffle=True)\n",
    "valid_dl = DataLoader(valid_ds, batch_size=64, shuffle=False)\n",
    "\n",
    "xb, yb = next(iter(train_dl))\n",
    "xb.shape, yb.shape"
   ]
  },
  {
   "cell_type": "markdown",
   "metadata": {},
   "source": [
    "## Train"
   ]
  },
  {
   "cell_type": "code",
   "execution_count": 99,
   "metadata": {},
   "outputs": [
    {
     "data": {
      "application/vnd.jupyter.widget-view+json": {
       "model_id": "8c07bcf53ed94fc3ba435d36711130ed",
       "version_major": 2,
       "version_minor": 0
      },
      "text/plain": [
       "  0%|          | 0/200 [00:00<?, ?it/s]"
      ]
     },
     "metadata": {},
     "output_type": "display_data"
    }
   ],
   "source": [
    "from torch.optim.lr_scheduler import OneCycleLR\n",
    "\n",
    "model = Net(input_dim=64, hidden_dim=64, output_dim=10)\n",
    "optimiser = Adam(model.parameters(), lr=1e-3)\n",
    "loss_func = nn.CrossEntropyLoss()\n",
    "total_steps = len(train_dl) * config.EPOCHS\n",
    "scheduler = OneCycleLR(optimiser, max_lr=1e-2, total_steps=total_steps)\n",
    "\n",
    "log = []\n",
    "\n",
    "for epoch in tqdm(range(config.EPOCHS)):\n",
    "    log_sample = {}\n",
    "\n",
    "    model.train()\n",
    "    for xb, yb in train_dl:\n",
    "        y_hat = model(xb)\n",
    "        loss = loss_func(y_hat, yb)\n",
    "        loss.backward()\n",
    "        optimiser.step()\n",
    "        optimiser.zero_grad()\n",
    "        scheduler.step()\n",
    "\n",
    "    model.eval()\n",
    "    valid_loss = 0\n",
    "    for xb, yb in valid_dl:\n",
    "        with torch.no_grad():\n",
    "            y_hat = model(xb)\n",
    "            valid_loss += loss_func(y_hat, yb)\n",
    "\n",
    "    log_sample[\"valid_loss\"] = float(valid_loss / len(valid_dl))\n",
    "    log_sample[\"train_loss\"] = float(loss)\n",
    "    log.append(log_sample)\n",
    "\n",
    "log = pd.DataFrame(log)"
   ]
  },
  {
   "cell_type": "code",
   "execution_count": 102,
   "metadata": {},
   "outputs": [],
   "source": [
    "# torch.save(model.state_dict(), \"models/grad_classifier.pth\")"
   ]
  },
  {
   "cell_type": "code",
   "execution_count": 103,
   "metadata": {},
   "outputs": [
    {
     "data": {
      "image/png": "[encoded data removed]",
      "text/plain": [
       "<Figure size 640x480 with 1 Axes>"
      ]
     },
     "metadata": {},
     "output_type": "display_data"
    }
   ],
   "source": [
    "from physics_mi.eval import plot_loss\n",
    "\n",
    "plot_loss(log[\"train_loss\"], log[\"valid_loss\"])"
   ]
  },
  {
   "cell_type": "code",
   "execution_count": 110,
   "metadata": {},
   "outputs": [],
   "source": [
    "def get_preds(model, valid_dl):\n",
    "    model.eval()\n",
    "\n",
    "    X = []\n",
    "    y_preds = []\n",
    "    y_targs = []\n",
    "\n",
    "    for xb, yb in valid_dl:\n",
    "        with torch.inference_mode():\n",
    "            out = model(xb)\n",
    "        X.append(xb)\n",
    "        y_preds.append(out)\n",
    "        y_targs.append(yb)\n",
    "\n",
    "    X = torch.cat(X).numpy()\n",
    "    y_preds = torch.cat(y_preds)\n",
    "    y_preds = torch.softmax(y_preds, dim=1).argmax(dim=1).numpy()\n",
    "    y_targs = torch.cat(y_targs).numpy()\n",
    "\n",
    "    return y_preds, y_targs, X\n",
    "\n",
    "\n",
    "def accuracy(y_preds, y_targs):\n",
    "    return (y_preds == y_targs).mean()"
   ]
  },
  {
   "cell_type": "code",
   "execution_count": 108,
   "metadata": {},
   "outputs": [],
   "source": [
    "y_preds, y_targs, X = get_preds(model, valid_dl)"
   ]
  },
  {
   "cell_type": "code",
   "execution_count": 111,
   "metadata": {},
   "outputs": [
    {
     "data": {
      "text/plain": [
       "0.9368421052631579"
      ]
     },
     "execution_count": 111,
     "metadata": {},
     "output_type": "execute_result"
    }
   ],
   "source": [
    "accuracy(y_preds, y_targs)"
   ]
  },
  {
   "cell_type": "code",
   "execution_count": 113,
   "metadata": {},
   "outputs": [
    {
     "data": {
      "image/png": "[encoded data removed]",
      "text/plain": [
       "<Figure size 640x480 with 2 Axes>"
      ]
     },
     "metadata": {},
     "output_type": "display_data"
    }
   ],
   "source": [
    "import seaborn as sns\n",
    "from sklearn.metrics import confusion_matrix\n",
    "\n",
    "# Compute the confusion matrix\n",
    "cm = confusion_matrix(y_targs, y_preds)\n",
    "\n",
    "# Plot the confusion matrix\n",
    "sns.heatmap(cm, annot=True, fmt=\"d\", cmap=\"Blues\")\n",
    "plt.xlabel(\"Predicted\")\n",
    "plt.ylabel(\"Actual\")\n",
    "plt.title(\"Confusion Matrix\")\n",
    "plt.show()"
   ]
  },
  {
   "cell_type": "markdown",
   "metadata": {},
   "source": [
    "Ok that was straightforward.\n",
    "\n",
    "To be honest, this seems extremely trivial. I can _see_ that the gradients are distinct (and therefore classifiable) between each function, so being able to train a classifier on it is no surprise. _Now_ it's just a case of training something _unsupervised_ to pull out the same information 🤔.\n",
    "\n",
    "One potential issue I forsee is what happens when your input space becomes loads larger. Obviously 1D is fine because we can sample densely. I'd imagine for high dimensional input spaces we'd just need bigger models..."
   ]
  }
 ],
 "metadata": {
  "kernelspec": {
   "display_name": "physics-mi",
   "language": "python",
   "name": "python3"
  },
  "language_info": {
   "codemirror_mode": {
    "name": "ipython",
    "version": 3
   },
   "file_extension": ".py",
   "mimetype": "text/x-python",
   "name": "python",
   "nbconvert_exporter": "python",
   "pygments_lexer": "ipython3",
   "version": "3.9.16"
  }
 },
 "nbformat": 4,
 "nbformat_minor": 2
}
